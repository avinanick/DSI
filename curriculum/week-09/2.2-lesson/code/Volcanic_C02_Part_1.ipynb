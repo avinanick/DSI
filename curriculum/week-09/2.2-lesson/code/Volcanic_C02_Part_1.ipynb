{
 "cells": [
  {
   "cell_type": "code",
   "execution_count": null,
   "metadata": {
    "collapsed": false
   },
   "outputs": [],
   "source": [
    "from matplotlib import pyplot as plt\n",
    "import numpy as np\n",
    "import pandas as pd\n",
    "\n",
    "%matplotlib inline\n",
    "\n",
    "plt.rcParams['figure.figsize'] = (8, 8)"
   ]
  },
  {
   "cell_type": "markdown",
   "metadata": {},
   "source": [
    "credits for baseline data and code:  Marc Harper, GA LA <br>\n",
    "ftp://aftp.cmdl.noaa.gov/products/trends/co2/co2_mm_mlo.txt <br>\n",
    "http://earthobservatory.nasa.gov/blogs/climateqa/mauna-loa-co2-record/\n"
   ]
  },
  {
   "cell_type": "code",
   "execution_count": null,
   "metadata": {
    "collapsed": false
   },
   "outputs": [],
   "source": [
    "filename = \"ftp://aftp.cmdl.noaa.gov/products/trends/co2/co2_mm_mlo.txt\"\n",
    "columns = [\"year\", \"month\", \"decimal date\", \"average\", \"interpolated\", \"trend\", \"?\"]\n",
    "\n",
    "co2 = pd.read_csv(filename, delim_whitespace=True, skiprows=72, names=columns)\n",
    "co2.dropna(inplace=True)\n",
    "co2.head()"
   ]
  },
  {
   "cell_type": "code",
   "execution_count": null,
   "metadata": {
    "collapsed": false
   },
   "outputs": [],
   "source": [
    "def make_date(row):\n",
    "    year = str(int(row['year']))\n",
    "    month = str(int(row['month']))\n",
    "    if len(month) < 2:\n",
    "        month = '0' + month\n",
    "    day = '01'\n",
    "    return \"{}-{}-{}\".format(year, month, day)\n",
    "\n",
    "co2['Date'] = co2.apply(make_date, axis=1)\n",
    "co2['Date'] = pd.to_datetime(co2['Date'], format='%Y-%m-%d')\n",
    "co2['date'] = co2['Date']\n",
    "co2.set_index('Date', inplace=True)\n",
    "co2.head()"
   ]
  },
  {
   "cell_type": "code",
   "execution_count": null,
   "metadata": {
    "collapsed": false
   },
   "outputs": [],
   "source": [
    "plt.plot(co2.index, co2[\"interpolated\"])\n",
    "plt.ylabel(\"CO_2\")\n",
    "plt.xlabel(\"Date\")\n",
    "plt.show()"
   ]
  },
  {
   "cell_type": "markdown",
   "metadata": {},
   "source": [
    "## Build DataFrame"
   ]
  },
  {
   "cell_type": "code",
   "execution_count": null,
   "metadata": {
    "collapsed": false
   },
   "outputs": [],
   "source": [
    "df = pd.DataFrame()\n",
    "df['y'] = co2[\"interpolated\"]\n",
    "df['x'] = co2[\"date\"].apply(lambda x: x.toordinal())\n",
    "df['Date'] = co2[\"date\"]\n",
    "df.set_index('Date', inplace=True)\n",
    "\n",
    "df.head()"
   ]
  },
  {
   "cell_type": "markdown",
   "metadata": {},
   "source": [
    "## Modeling"
   ]
  },
  {
   "cell_type": "code",
   "execution_count": null,
   "metadata": {
    "collapsed": false
   },
   "outputs": [],
   "source": [
    "X = np.vander(df['x'], 3)\n",
    "y = np.log(df['y'])\n",
    "\n",
    "from sklearn import linear_model\n",
    "\n",
    "model = linear_model.LinearRegression()\n",
    "\n",
    "model.fit(X, y)\n",
    "\n",
    "plt.plot(df['x'], df['y'], label=\"Raw Data\")\n",
    "plt.plot(df['x'], np.exp(model.predict(X)), label=\"Predicted\", color='r', linewidth='2')\n",
    "plt.ylabel(\"CO_2\")\n",
    "plt.xlabel(\"Date\")\n",
    "plt.legend()"
   ]
  },
  {
   "cell_type": "markdown",
   "metadata": {},
   "source": [
    "## Subtract off the Predicted Trend"
   ]
  },
  {
   "cell_type": "code",
   "execution_count": null,
   "metadata": {
    "collapsed": false
   },
   "outputs": [],
   "source": [
    "df['y2'] = df['y'] - np.exp(model.predict(X))\n",
    "plt.plot(df['x'], df['y2'])"
   ]
  },
  {
   "cell_type": "markdown",
   "metadata": {},
   "source": [
    "## Analyzing the Time Series\n",
    "\n",
    "### We can use autocorrelation to measure the self-similarity of the time series. In this case we expect a yearly cycle.\n",
    "\n"
   ]
  },
  {
   "cell_type": "code",
   "execution_count": null,
   "metadata": {
    "collapsed": false
   },
   "outputs": [],
   "source": [
    "# Monthly\n",
    "df['y2'].autocorr(lag=1)"
   ]
  },
  {
   "cell_type": "code",
   "execution_count": null,
   "metadata": {
    "collapsed": false
   },
   "outputs": [],
   "source": [
    "# Yearly\n",
    "df['y2'].autocorr(lag=12)"
   ]
  },
  {
   "cell_type": "markdown",
   "metadata": {},
   "source": [
    "### As you can see there is a very strong yearly autocorrelation, as expected. We can take a look at a range of lag values with a plot from statsmodels."
   ]
  },
  {
   "cell_type": "code",
   "execution_count": null,
   "metadata": {
    "collapsed": false
   },
   "outputs": [],
   "source": [
    "from statsmodels.graphics.tsaplots import plot_acf\n",
    "plot_acf(df['y2'], lags=13)\n",
    "plt.show()"
   ]
  }
 ],
 "metadata": {
  "kernelspec": {
   "display_name": "Python 2",
   "language": "python",
   "name": "python2"
  },
  "language_info": {
   "codemirror_mode": {
    "name": "ipython",
    "version": 2
   },
   "file_extension": ".py",
   "mimetype": "text/x-python",
   "name": "python",
   "nbconvert_exporter": "python",
   "pygments_lexer": "ipython2",
   "version": "2.7.11"
  },
  "widgets": {
   "state": {},
   "version": "1.1.2"
  }
 },
 "nbformat": 4,
 "nbformat_minor": 0
}
