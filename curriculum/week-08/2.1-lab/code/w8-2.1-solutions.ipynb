{
 "cells": [
  {
   "cell_type": "markdown",
   "metadata": {},
   "source": [
    "# Introduction - Let me tell you about a guy named Stan..."
   ]
  },
  {
   "cell_type": "code",
   "execution_count": 63,
   "metadata": {
    "collapsed": false
   },
   "outputs": [
    {
     "data": {
      "text/html": [
       "<img src=\"https://upload.wikimedia.org/wikipedia/commons/8/8a/STAN_ULAM_HOLDING_THE_FERMIAC.jpg\"/>"
      ],
      "text/plain": [
       "<IPython.core.display.Image object>"
      ]
     },
     "execution_count": 63,
     "metadata": {},
     "output_type": "execute_result"
    }
   ],
   "source": [
    "from IPython.display import Image\n",
    "Image(url='https://upload.wikimedia.org/wikipedia/commons/8/8a/STAN_ULAM_HOLDING_THE_FERMIAC.jpg')"
   ]
  },
  {
   "cell_type": "markdown",
   "metadata": {},
   "source": [
    "Picture of Stan Ulam - One of the pioneers of Bayesian analysis - he built Bayesian models to understand particle interactions that led to the successful implementation of the atomic bomb"
   ]
  },
  {
   "cell_type": "markdown",
   "metadata": {},
   "source": [
    "# The Bayesian Approach to the Simple Linear Model (SLR) and Multi-Linear Regression (MLR)"
   ]
  },
  {
   "cell_type": "markdown",
   "metadata": {
    "collapsed": true
   },
   "source": [
    "So although the basic idea of Bayesian regressions is not much different from what you saw when doing linear regressions. There will be a major difference in how they are implemented in code. Whereas one simply pushed in columns of data and a target into a regression to get output, the actual \"specification\" of the model is a bit more involved in the Bayesian variety. In particular, you will have to specify priors, likelihoods etc. However, fear not, we are not going to write any of these posterior distributions and their associated ingredients manually. We're going to introduce a dedicated software packages this week, PyStan, that not only gives you leverage in the specification side, but includes a whole lot of really efficient C++ code to do the parameter estimation. Unlike what you did earlier in the week, we won't use MLE to estimate the parameters utilizing the Monte-Carlo Markov Chain (MCMC). \n",
    "\n",
    "Although this topic is in itself not the point of our lecture, it will be a tool we leverage over-and-over again to estimate our models. For those of you who are interested in reading more, check out the following link: \n",
    "\n",
    "- Hardcore primer (requires Calculus, and strong mathematical maturity: http://www4.stat.ncsu.edu/~sghosh/TEACHING/st790/lectures/GillMCMC.pdf\n",
    "- Not as Hardcore: http://statwww.epfl.ch/teaching/3eCycleRomand/printemps-2005/EG.lectures.villars05.pdf\n",
    "\n",
    "Sorry, there's just no way around a lot of mathematics when dealing with MCMC. \n"
   ]
  },
  {
   "cell_type": "markdown",
   "metadata": {},
   "source": [
    "# Bayesian Regression vs Classical Regressions"
   ]
  },
  {
   "cell_type": "markdown",
   "metadata": {},
   "source": [
    "\n",
    "Getting back to our previous discussion, the difference between classical and Bayesian regression can be thought of as thus: \n",
    "-   Classical regression is a special case of the Bayesian perspective whereby we have a non-informative prior. \n",
    "\n",
    "I'm sure you recall what 'non-informative' refers to uniform priors (i.e. no prior information assumed to bias things one way or another). \n",
    "\n",
    "The Bayesian approach also relaxes a few assumptions, we no longer have to assume homoscedasticity etc. \n",
    "\n",
    "(Just in case you need to review this homoskedasticity: https://www.youtube.com/watch?v=zRklTsY9w9c).\n",
    "\n",
    "You can remember what it means by just breaking the word down to it's component parts - homo : same, skedastic : variation, the later word can be thought of as being related to \"skew\" i.e. how much your line \"skews\" from the \"true\" trend-line.\n",
    "\n",
    "However, as previously stated, the Bayesian approach is fundamentally the \"inverse\" trick (i.e f(X|$\\theta$) to f($\\theta$|X)), and is primarily concerned with estimating parameters. In the case of Regressions, estimating $\\beta$'s and estimating $\\sigma$'s (and thus $\\sigma^2$'s).\n",
    "\n",
    "Why does this matter? Bayesian regressions give you, the modeler/data scientist a lot more control over your model. You can specify priors for each of the parameters in your regression (the $\\beta$'s), the error term, and even the constant (as well as the target). Therefore, it's worth to learn, and will give you more latitude to fit your model to the data you \n",
    "\n",
    "So we know that the joint of $\\beta$ and $\\sigma^2$ is proportional to the precision, defined as $\\frac{1}{\\sigma^2}$. Further, $$p(\\beta, \\sigma^2|{y}) = p(\\beta|{y}, \\sigma^2)p(\\sigma^2|{y})$$\n",
    "\n",
    "As we mentioned previously, we have check that this is not a pathological probability (proper) blah blah, but this ins't a mathematics course, so we'll again be blissfully ignorant of these complexities. \n",
    "\n",
    "If we had a procedural step-wise perspective of the procedure, here's what it would be: \n",
    "\n",
    "1. Determine $\\beta$, $\\sigma$ using posterior distributions\n",
    "2. Construct $y_{i+1}, y_{i+2}, ... y_{i+n}$ from a distribution using the parameters from step 1"
   ]
  },
  {
   "cell_type": "markdown",
   "metadata": {},
   "source": [
    "# Introduction to PyStan"
   ]
  },
  {
   "cell_type": "markdown",
   "metadata": {},
   "source": [
    "The most critical element of the PyStan interface is the model specification module. This is also possibly the most tricky, since it's going to be passed in as a bulk-string from Python's perspective, any snytax issues won't immediately be caught by an error-checking feature from your IDE.\n",
    "\n",
    "So what's going on? Basically to get PyStan to work, you need to pass a string (from Python's perspective, into the PyStan library, which than \"hits\" the C++ compiler, which then interprets yours string as actual code in C++. The computation is executed (within C++), and then the results are passed back to you. It's sort of like working with an API, but everything is internal to your machine. I've created a simple diagram to explain what's going on below.\n",
    "\n",
    "\n"
   ]
  },
  {
   "cell_type": "code",
   "execution_count": 2,
   "metadata": {
    "collapsed": false
   },
   "outputs": [
    {
     "data": {
      "image/png": "[encoded data removed]",
      "text/plain": [
       "<IPython.core.display.Image object>"
      ]
     },
     "execution_count": 2,
     "metadata": {},
     "output_type": "execute_result"
    }
   ],
   "source": [
    "from IPython.display import Image\n",
    "Image(filename = 'pystan_diagram.PNG')"
   ]
  },
  {
   "cell_type": "markdown",
   "metadata": {},
   "source": [
    "\n",
    "But, the we all got to remove the training wheels at some point! (at some point in your career you'll end up mareling your co-workers by writing script directly to notepad or wordpad(+) )"
   ]
  },
  {
   "cell_type": "markdown",
   "metadata": {},
   "source": [
    "I've provided a template of how PyStan model code should be pushed into the PyStan library. Note, that "
   ]
  },
  {
   "cell_type": "code",
   "execution_count": 3,
   "metadata": {
    "collapsed": false
   },
   "outputs": [
    {
     "data": {
      "text/plain": [
       "\"\\ndata {\\n// Defining your data \\n}\\ntransformed data{}\\n\\nparameters {\\n// Defining the name of your parameter and it's numerical parameters\\n// Explicitly required \\n}\\n\\ntransformed parameters{}\\n\\nmodel {\\n// Specifying your model parameters\\n// Explicitly required\\n}\\n\\ngenerated quantities{}\\n\""
      ]
     },
     "execution_count": 3,
     "metadata": {},
     "output_type": "execute_result"
    }
   ],
   "source": [
    "# This is a critical string that we need to pass from our main interface (Python) to the Stan interpretor \n",
    "\n",
    "'''\n",
    "data {\n",
    "// Defining your data \n",
    "}\n",
    "transformed data{}\n",
    "\n",
    "parameters {\n",
    "// Defining the name of your parameter and it's numerical parameters\n",
    "// Explicitly required \n",
    "}\n",
    "\n",
    "transformed parameters{}\n",
    "\n",
    "model {\n",
    "// Specifying your model parameters\n",
    "// Explicitly required\n",
    "}\n",
    "\n",
    "generated quantities{}\n",
    "'''"
   ]
  },
  {
   "cell_type": "markdown",
   "metadata": {},
   "source": [
    "# Description of components "
   ]
  },
  {
   "cell_type": "markdown",
   "metadata": {},
   "source": [
    "#### Data component (Optional)"
   ]
  },
  {
   "cell_type": "markdown",
   "metadata": {},
   "source": [
    "This is where you will define your major parameters and targets (variables or columns in data-speak), so if you have a regression equation, you need to define the target/dependent variable ('y') and the feature/independent/predictor variables (why are there so many different words that describe the same thing?) \n",
    "\n",
    "In the process of defining the variables, you will need also define where the variable ranges and it's type (for those of you who have coded before in C++ or Java, this will be familiar to you). Lastly, each line needs to end with a semi-colon. If you haven't guessed it, you're basically sending small snippets of C-code into the Stan interface from Python!"
   ]
  },
  {
   "cell_type": "markdown",
   "metadata": {},
   "source": [
    "#### Transformed Data Component (Optional)"
   ]
  },
  {
   "cell_type": "markdown",
   "metadata": {},
   "source": [
    "This is as it sounds, it's basically any data that can be derived from other data (think sample means, standard errors etc.) "
   ]
  },
  {
   "cell_type": "markdown",
   "metadata": {},
   "source": [
    "#### Parameters Component "
   ]
  },
  {
   "cell_type": "markdown",
   "metadata": {},
   "source": [
    "This is where you will define any population parameters to do Bayesian inference on, these can include mean, medians, variance etc., like the data  component, you need also specify the range and the type of the listed parameters"
   ]
  },
  {
   "cell_type": "markdown",
   "metadata": {},
   "source": [
    "#### Transformed Parameters Component (Optional)"
   ]
  },
  {
   "cell_type": "markdown",
   "metadata": {},
   "source": [
    "This is where you deposit any transformed parameters, think log-transform. Of course, you won't have to specify the range or type of the variables since you're merely transforming parameters (variables/columns) you've already defined in the data component of the structure"
   ]
  },
  {
   "cell_type": "markdown",
   "metadata": {},
   "source": [
    "#### Model Component "
   ]
  },
  {
   "cell_type": "markdown",
   "metadata": {},
   "source": [
    "This is where you will specify your model, so in the context of Bayesian computation/inference you will have to define your priors, likelihood etc. Unlike the above, you will not specify ranges of these models, you will however use the ~ symbol (tilde) as the assignment symbol."
   ]
  },
  {
   "cell_type": "markdown",
   "metadata": {},
   "source": [
    "#### Generated Quantities Component (Optional)"
   ]
  },
  {
   "cell_type": "markdown",
   "metadata": {},
   "source": [
    "This is the \"everything else\" category, any parameters or data that do not share a direct functional relationship with the estimation process. "
   ]
  },
  {
   "cell_type": "markdown",
   "metadata": {},
   "source": [
    "#### Simple Example of a single paramter Bayesian inference"
   ]
  },
  {
   "cell_type": "markdown",
   "metadata": {},
   "source": [
    "Let's now take a look at a simple C-code snippet for Stan model definition. Notice we're using a bulk string ''' stuff ''' format here to pass multi-line strings into PyStan. Also note the way the PyStan string is written with semi-colons after each line, this is basically C++ syntax. \n",
    "\n",
    "Look above at the description of each component and what's written in the code box below. Once you understand how/why everything is where it is, please move forward. If you need more details (or just curious), check out the PyStan docs. "
   ]
  },
  {
   "cell_type": "code",
   "execution_count": 4,
   "metadata": {
    "collapsed": false,
    "scrolled": true
   },
   "outputs": [
    {
     "data": {
      "text/plain": [
       "'\\ndata {\\nint<lower=0> n; \\nint<lower=0, upper=1> y[n]; \\n}\\nparameters {\\nreal<lower=0, upper=1> theta; \\n}\\nmodel {\\ntheta ~ beta(1, 1); \\ny ~ bernoulli(theta); \\n}\\n'"
      ]
     },
     "execution_count": 4,
     "metadata": {},
     "output_type": "execute_result"
    }
   ],
   "source": [
    "'''\n",
    "data {\n",
    "int<lower=0> n; \n",
    "int<lower=0, upper=1> y[n]; \n",
    "}\n",
    "parameters {\n",
    "real<lower=0, upper=1> theta; \n",
    "}\n",
    "model {\n",
    "theta ~ beta(1, 1); \n",
    "y ~ bernoulli(theta); \n",
    "}\n",
    "'''"
   ]
  },
  {
   "cell_type": "markdown",
   "metadata": {},
   "source": [
    "# Practicing Model Specification in Stan"
   ]
  },
  {
   "cell_type": "markdown",
   "metadata": {
    "collapsed": true
   },
   "source": [
    "#### 1.1 Coin toss with Stan"
   ]
  },
  {
   "cell_type": "markdown",
   "metadata": {},
   "source": [
    "Like previously, we go from the bernoulli scheme to the binomial"
   ]
  },
  {
   "cell_type": "code",
   "execution_count": 5,
   "metadata": {
    "collapsed": false
   },
   "outputs": [
    {
     "data": {
      "text/plain": [
       "'\\ndata {\\n    int<lower=0> n; \\n    int<lower=0> heads; \\n}\\nparameters {\\n    real<lower=0, upper=1> param;\\n}\\nmodel {\\n    param ~ beta(2, 2);\\n    heads ~ binomial(n, param);\\n}\\n\\n'"
      ]
     },
     "execution_count": 5,
     "metadata": {},
     "output_type": "execute_result"
    }
   ],
   "source": [
    "'Note - this is a lab answer'\n",
    "\n",
    "\n",
    "'''\n",
    "data {\n",
    "    int<lower=0> n; \n",
    "    int<lower=0> heads; \n",
    "}\n",
    "parameters {\n",
    "    real<lower=0, upper=1> param;\n",
    "}\n",
    "model {\n",
    "    param ~ beta(2, 2);\n",
    "    heads ~ binomial(n, param);\n",
    "}\n",
    "\n",
    "'''"
   ]
  },
  {
   "cell_type": "markdown",
   "metadata": {},
   "source": [
    "#### Problem 1 :  Bayesian SLR for 1 Parameter with Stan"
   ]
  },
  {
   "cell_type": "markdown",
   "metadata": {},
   "source": [
    "Write a Stan model for a SLR, using the simple example given and the previous exercise as a template "
   ]
  },
  {
   "cell_type": "code",
   "execution_count": 6,
   "metadata": {
    "collapsed": false
   },
   "outputs": [
    {
     "data": {
      "text/plain": [
       "'\\n\\ndata {\\n int<lower = 0> n; // number of observations\\n real y[n]; // response variable\\n real x[n]; // predictor variable\\n}\\n\\nparameters {\\n// Remember from high school y = ax + b\\n real a; real b; \\n real<lower=0> sd; // standard deviation\\n}\\n\\ntransformed parameters {\\n real target[n]; \\n \\nfor(i in 1:n)\\n target[i] <- a*x[i] + b;\\n}\\n\\nmodel {\\n y ~ normal(mu, sd);\\n}\\n\\n'"
      ]
     },
     "execution_count": 6,
     "metadata": {},
     "output_type": "execute_result"
    }
   ],
   "source": [
    "'Note - this is the lab answer '\n",
    "\n",
    "'''\n",
    "\n",
    "data {\n",
    " int<lower = 0> n; // number of observations\n",
    " real y[n]; // response variable\n",
    " real x[n]; // predictor variable\n",
    "}\n",
    "\n",
    "parameters {\n",
    "// Remember from high school y = ax + b\n",
    " real a; real b; \n",
    " real<lower=0> sd; // standard deviation\n",
    "}\n",
    "\n",
    "transformed parameters {\n",
    " real target[n]; \n",
    " \n",
    "for(i in 1:n)\n",
    " target[i] <- a*x[i] + b;\n",
    "}\n",
    "\n",
    "model {\n",
    " y ~ normal(mu, sd);\n",
    "}\n",
    "\n",
    "'''"
   ]
  },
  {
   "cell_type": "markdown",
   "metadata": {},
   "source": [
    "# The Boston Housing Market Data Set"
   ]
  },
  {
   "cell_type": "markdown",
   "metadata": {
    "collapsed": true
   },
   "source": [
    "#### Problem 2 - Loading Data and running a STAN model"
   ]
  },
  {
   "cell_type": "markdown",
   "metadata": {},
   "source": [
    "Today we're going to be studying a standard UCI Machine Learning data (an oldie but a goodie as they say), https://archive.ics.uci.edu/ml/datasets/Housing\n",
    "\n",
    "The data contains information that are possibly related to housing values in the Boston suburb (think Zip Realty -maybe not). Here's a brief summary of the data found on the website: \n",
    "\n",
    "    - CRIM      per capita crime rate by town\n",
    "    - ZN        proportion of residential land zoned for lots over \n",
    "                 25,000 sq.ft.\n",
    "    - INDUS     proportion of non-retail business acres per town\n",
    "    - CHAS      Charles River dummy variable (= 1 if tract bounds \n",
    "                 river; 0 otherwise)\n",
    "    - NOX       nitric oxides concentration (parts per 10 million)\n",
    "    - RM        average number of rooms per dwelling\n",
    "    - AGE       proportion of owner-occupied units built prior to 1940\n",
    "    - DIS       weighted distances to five Boston employment centres\n",
    "    - RAD       index of accessibility to radial highways\n",
    "    - TAX       full-value property-tax rate per 10,000 USD\n",
    "    - PTRATIO   pupil-teacher ratio by town\n",
    "    - B        1000(Bk - 0.63)^2 where Bk is the proportion of blacks \n",
    "                 by town\n",
    "    - LSTAT    % lower status of the population\n",
    "    - MEDV     Median value of owner-occupied homes in 1000 USDs\n",
    "\n",
    "\n",
    "Load the data and list the first 5 observations to get a feel for the data"
   ]
  },
  {
   "cell_type": "code",
   "execution_count": 7,
   "metadata": {
    "collapsed": false
   },
   "outputs": [
    {
     "data": {
      "text/html": [
       "<div>\n",
       "<table border=\"1\" class=\"dataframe\">\n",
       "  <thead>\n",
       "    <tr style=\"text-align: right;\">\n",
       "      <th></th>\n",
       "      <th>Unnamed: 0</th>\n",
       "      <th>CRIM</th>\n",
       "      <th>ZN</th>\n",
       "      <th>INDUS</th>\n",
       "      <th>CHAS</th>\n",
       "      <th>NOX</th>\n",
       "      <th>RM</th>\n",
       "      <th>AGE</th>\n",
       "      <th>DIS</th>\n",
       "      <th>RAD</th>\n",
       "      <th>TAX</th>\n",
       "      <th>PTRATIO</th>\n",
       "      <th>B</th>\n",
       "      <th>LSTAT</th>\n",
       "      <th>MEDV</th>\n",
       "    </tr>\n",
       "  </thead>\n",
       "  <tbody>\n",
       "    <tr>\n",
       "      <th>0</th>\n",
       "      <td>1</td>\n",
       "      <td>0.00632</td>\n",
       "      <td>18</td>\n",
       "      <td>2.31</td>\n",
       "      <td>0</td>\n",
       "      <td>0.538</td>\n",
       "      <td>6.575</td>\n",
       "      <td>65.2</td>\n",
       "      <td>4.0900</td>\n",
       "      <td>1</td>\n",
       "      <td>296</td>\n",
       "      <td>15.3</td>\n",
       "      <td>396.90</td>\n",
       "      <td>4.98</td>\n",
       "      <td>24.0</td>\n",
       "    </tr>\n",
       "    <tr>\n",
       "      <th>1</th>\n",
       "      <td>2</td>\n",
       "      <td>0.02731</td>\n",
       "      <td>0</td>\n",
       "      <td>7.07</td>\n",
       "      <td>0</td>\n",
       "      <td>0.469</td>\n",
       "      <td>6.421</td>\n",
       "      <td>78.9</td>\n",
       "      <td>4.9671</td>\n",
       "      <td>2</td>\n",
       "      <td>242</td>\n",
       "      <td>17.8</td>\n",
       "      <td>396.90</td>\n",
       "      <td>9.14</td>\n",
       "      <td>21.6</td>\n",
       "    </tr>\n",
       "    <tr>\n",
       "      <th>2</th>\n",
       "      <td>3</td>\n",
       "      <td>0.02729</td>\n",
       "      <td>0</td>\n",
       "      <td>7.07</td>\n",
       "      <td>0</td>\n",
       "      <td>0.469</td>\n",
       "      <td>7.185</td>\n",
       "      <td>61.1</td>\n",
       "      <td>4.9671</td>\n",
       "      <td>2</td>\n",
       "      <td>242</td>\n",
       "      <td>17.8</td>\n",
       "      <td>392.83</td>\n",
       "      <td>4.03</td>\n",
       "      <td>34.7</td>\n",
       "    </tr>\n",
       "    <tr>\n",
       "      <th>3</th>\n",
       "      <td>4</td>\n",
       "      <td>0.03237</td>\n",
       "      <td>0</td>\n",
       "      <td>2.18</td>\n",
       "      <td>0</td>\n",
       "      <td>0.458</td>\n",
       "      <td>6.998</td>\n",
       "      <td>45.8</td>\n",
       "      <td>6.0622</td>\n",
       "      <td>3</td>\n",
       "      <td>222</td>\n",
       "      <td>18.7</td>\n",
       "      <td>394.63</td>\n",
       "      <td>2.94</td>\n",
       "      <td>33.4</td>\n",
       "    </tr>\n",
       "    <tr>\n",
       "      <th>4</th>\n",
       "      <td>5</td>\n",
       "      <td>0.06905</td>\n",
       "      <td>0</td>\n",
       "      <td>2.18</td>\n",
       "      <td>0</td>\n",
       "      <td>0.458</td>\n",
       "      <td>7.147</td>\n",
       "      <td>54.2</td>\n",
       "      <td>6.0622</td>\n",
       "      <td>3</td>\n",
       "      <td>222</td>\n",
       "      <td>18.7</td>\n",
       "      <td>396.90</td>\n",
       "      <td>5.33</td>\n",
       "      <td>36.2</td>\n",
       "    </tr>\n",
       "  </tbody>\n",
       "</table>\n",
       "</div>"
      ],
      "text/plain": [
       "   Unnamed: 0     CRIM  ZN  INDUS  CHAS    NOX     RM   AGE     DIS  RAD  TAX  \\\n",
       "0           1  0.00632  18   2.31     0  0.538  6.575  65.2  4.0900    1  296   \n",
       "1           2  0.02731   0   7.07     0  0.469  6.421  78.9  4.9671    2  242   \n",
       "2           3  0.02729   0   7.07     0  0.469  7.185  61.1  4.9671    2  242   \n",
       "3           4  0.03237   0   2.18     0  0.458  6.998  45.8  6.0622    3  222   \n",
       "4           5  0.06905   0   2.18     0  0.458  7.147  54.2  6.0622    3  222   \n",
       "\n",
       "   PTRATIO       B  LSTAT  MEDV  \n",
       "0     15.3  396.90   4.98  24.0  \n",
       "1     17.8  396.90   9.14  21.6  \n",
       "2     17.8  392.83   4.03  34.7  \n",
       "3     18.7  394.63   2.94  33.4  \n",
       "4     18.7  396.90   5.33  36.2  "
      ]
     },
     "execution_count": 7,
     "metadata": {},
     "output_type": "execute_result"
    }
   ],
   "source": [
    "from __future__ import division\n",
    "import pystan\n",
    "import os\n",
    "import pylab as py\n",
    "import sys\n",
    "import glob\n",
    "import matplotlib.pyplot as plt\n",
    "import numpy as np\n",
    "import pandas as pd\n",
    "%matplotlib inline\n",
    "%precision 4\n",
    "plt.style.use('ggplot')\n",
    "\n",
    "# Load the data\n",
    "path = 'housing.csv'\n",
    "housing = pd.read_csv(path); housing.head(5)"
   ]
  },
  {
   "cell_type": "markdown",
   "metadata": {},
   "source": [
    "Create a dictionary with the target (dependent variable), the feature, (dependent variable), and the size of data (the row number)"
   ]
  },
  {
   "cell_type": "code",
   "execution_count": 8,
   "metadata": {
    "collapsed": false
   },
   "outputs": [],
   "source": [
    "# Build a dictionary for Stan model processing\n",
    "dat = {'n': len(housing), 'x': housing.CRIM, 'y': housing.MEDV}\n"
   ]
  },
  {
   "cell_type": "markdown",
   "metadata": {},
   "source": [
    "Create a bivariate plot for the target and feature"
   ]
  },
  {
   "cell_type": "code",
   "execution_count": 9,
   "metadata": {
    "collapsed": false
   },
   "outputs": [
    {
     "data": {
      "image/png": "[encoded data removed]",
      "text/plain": [
       "<matplotlib.figure.Figure at 0x119c6d890>"
      ]
     },
     "metadata": {},
     "output_type": "display_data"
    }
   ],
   "source": [
    "# Output the data to get a view of \n",
    "\n",
    "py.plot(housing.CRIM, housing.MEDV, 'o')\n",
    "py.show()"
   ]
  },
  {
   "cell_type": "markdown",
   "metadata": {},
   "source": [
    "Construct the STAN model"
   ]
  },
  {
   "cell_type": "code",
   "execution_count": 10,
   "metadata": {
    "collapsed": false
   },
   "outputs": [],
   "source": [
    "# Load the STAN model \n",
    "\n",
    "reg_model = '''\n",
    "data {\n",
    "    int<lower=0> n;\n",
    "    real x[n];\n",
    "    real y[n];\n",
    "}\n",
    "parameters {\n",
    "    real a;\n",
    "    real b;\n",
    "    real sigma;\n",
    "}\n",
    "transformed parameters {\n",
    "    real mu[n];\n",
    "    for (i in 1:n) {\n",
    "        mu[i] <- a*x[i] + b;\n",
    "        }\n",
    "}\n",
    "model {\n",
    "    sigma ~ uniform(0, 20);  //Remember step 1?\n",
    "    y ~ normal(mu, sigma); // Remember step 2?\n",
    "}\n",
    "\n",
    "'''"
   ]
  },
  {
   "cell_type": "markdown",
   "metadata": {},
   "source": [
    "#### Bonus Exercise "
   ]
  },
  {
   "cell_type": "markdown",
   "metadata": {},
   "source": [
    "A brief detour bonus exercise - Vectorize the regression model in STAN"
   ]
  },
  {
   "cell_type": "code",
   "execution_count": 11,
   "metadata": {
    "collapsed": false
   },
   "outputs": [],
   "source": [
    "# Note - This is a lab answer\n",
    "# Vectorize the reg model in STAN\n",
    "\n",
    "vectorize_reg = '''\n",
    "data {\n",
    "    int<lower=0> n;\n",
    "    int<lower=0> m;\n",
    "    matrix[n, m] x;\n",
    "    vector[n] y;\n",
    "}\n",
    "transformed data {\n",
    "    vector[n] cons;\n",
    "    matrix[n, m+1] x;\n",
    "\n",
    "    cons <- rep_vector(1, n);\n",
    "    x <- append_col(cons, xi);\n",
    "}\n",
    "parameters {\n",
    "    vector[k] beta;\n",
    "    real<lower=0> sigma;\n",
    "}\n",
    "model {\n",
    "    y ~ normal(xi * beta, sigma);\n",
    "}\n",
    "'''"
   ]
  },
  {
   "cell_type": "markdown",
   "metadata": {},
   "source": [
    "Now back to the original exercise, initialize your Stan model in PySTan "
   ]
  },
  {
   "cell_type": "code",
   "execution_count": 12,
   "metadata": {
    "collapsed": false
   },
   "outputs": [],
   "source": [
    "model = pystan.stan(model_code = reg_model, n_jobs = 1, data = dat, iter=1000, chains=1) \n",
    "\n",
    "# Remember n_jobs = 1 is for Windows user \n"
   ]
  },
  {
   "cell_type": "markdown",
   "metadata": {},
   "source": [
    "We're going to build our first trace plot. What's a trace plot? It's a diagnostic tool to understand how well our \"mixing\" is occuring while implementing the MCMC estimation. In general we want our traceplots to be devoid of 'jump' (see picture below - thanks Harvard: http://www.people.fas.harvard.edu/~plam/teaching/methods/convergence/convergence_print.pdf)\n",
    "\n"
   ]
  },
  {
   "cell_type": "code",
   "execution_count": 13,
   "metadata": {
    "collapsed": false
   },
   "outputs": [
    {
     "data": {
      "image/png": "[encoded data removed]",
      "text/plain": [
       "<IPython.core.display.Image object>"
      ]
     },
     "execution_count": 13,
     "metadata": {},
     "output_type": "execute_result"
    }
   ],
   "source": [
    "from IPython.display import Image\n",
    "Image('traceplot_examples.PNG')"
   ]
  },
  {
   "cell_type": "markdown",
   "metadata": {
    "collapsed": true
   },
   "source": [
    "Make a trace plot for the estimated parameter, using histogram, and **NOT** the traceplot method in PyStan. Please read through the docs and look up the .extract() method. Remember, do things the hard way first, then we can do it the easy way. "
   ]
  },
  {
   "cell_type": "code",
   "execution_count": 14,
   "metadata": {
    "collapsed": false
   },
   "outputs": [
    {
     "name": "stderr",
     "output_type": "stream",
     "text": [
      "/Users/jam3jam/anaconda/lib/python2.7/site-packages/matplotlib/axes/_axes.py:5933: UserWarning: 2D hist input should be nsamples x nvariables;\n",
      " this looks transposed (shape is 500 x 506)\n",
      "  'this looks transposed (shape is %d x %d)' % x.shape[::-1])\n"
     ]
    },
    {
     "data": {
      "image/png": "[encoded data removed]",
      "text/plain": [
       "<matplotlib.figure.Figure at 0x12a499c50>"
      ]
     },
     "metadata": {},
     "output_type": "display_data"
    }
   ],
   "source": [
    "# Visualize the mean, and variance convergence using matplotlib\n",
    "\n",
    "trace = model.extract()\n",
    "plt.figure(figsize=(10,4))\n",
    "plt.subplot(1,2,1);\n",
    "plt.hist(trace['mu'][:], 25, histtype='step');\n",
    "plt.subplot(1,2,2);\n",
    "\n",
    "plt.hist(trace['sigma'][:], 25, histtype='step');"
   ]
  },
  {
   "cell_type": "markdown",
   "metadata": {},
   "source": [
    "Build a Trace plot of the model and all parameters using the trace plot method, and print the model"
   ]
  },
  {
   "cell_type": "code",
   "execution_count": 15,
   "metadata": {
    "collapsed": false
   },
   "outputs": [
    {
     "data": {
      "image/png": "[encoded data removed]",
      "text/plain": [
       "<matplotlib.figure.Figure at 0x12a499390>"
      ]
     },
     "metadata": {},
     "output_type": "display_data"
    }
   ],
   "source": [
    "# Use the traceplot method from pystan to output the graph ... much easier than constructing from a histogram don't you think? \n",
    "\n",
    "model.traceplot()\n",
    "py.show()"
   ]
  },
  {
   "cell_type": "code",
   "execution_count": 16,
   "metadata": {
    "collapsed": false
   },
   "outputs": [
    {
     "name": "stdout",
     "output_type": "stream",
     "text": [
      "Inference for Stan model: anon_model_6b049365deacf02d599e5c1c3fb14fb9.\n",
      "1 chains, each with iter=1000; warmup=500; thin=1; \n",
      "post-warmup draws per chain=500, total post-warmup draws=500.\n",
      "\n",
      "          mean se_mean     sd   2.5%    25%    50%    75%  97.5%  n_eff   Rhat\n",
      "a        -0.41  3.6e-3   0.05   -0.5  -0.44  -0.41  -0.38  -0.32  166.0    1.0\n",
      "b        24.02    0.03   0.43   23.2  23.71  24.03  24.31  24.94  163.0    1.0\n",
      "sigma     8.53    0.02   0.29    8.0   8.35   8.51   8.71   9.14  157.0    1.0\n",
      "mu[0]    24.01    0.03   0.43  23.19  23.71  24.03   24.3  24.94  163.0    1.0\n",
      "mu[1]     24.0    0.03   0.43  23.19   23.7  24.02  24.29  24.93  163.0    1.0\n",
      "mu[2]     24.0    0.03   0.43  23.19   23.7  24.02  24.29  24.93  163.0    1.0\n",
      "mu[3]     24.0    0.03   0.43  23.18   23.7  24.02  24.29  24.92  163.0    1.0\n",
      "mu[4]    23.99    0.03   0.43  23.17  23.68   24.0  24.28  24.91  163.0    1.0\n",
      "mu[5]     24.0    0.03   0.43  23.18   23.7  24.02  24.29  24.93  163.0    1.0\n",
      "mu[6]    23.98    0.03   0.43  23.16  23.68  23.99  24.27   24.9  163.0    1.0\n",
      "mu[7]    23.96    0.03   0.43  23.14  23.65  23.97  24.24  24.88  163.0    1.0\n",
      "mu[8]    23.93    0.03   0.43  23.11  23.62  23.94  24.22  24.85  163.0    1.0\n",
      "mu[9]    23.94    0.03   0.43  23.13  23.64  23.96  24.23  24.87  163.0    1.0\n",
      "mu[10]   23.92    0.03   0.43  23.11  23.62  23.93  24.21  24.84  163.0    1.0\n",
      "mu[11]   23.97    0.03   0.43  23.15  23.66  23.98  24.25  24.89  163.0    1.0\n",
      "mu[12]   23.98    0.03   0.43  23.16  23.67  23.99  24.26   24.9  163.0    1.0\n",
      "mu[13]   23.76    0.03   0.42  22.96  23.46  23.76  24.04  24.66  164.0    1.0\n",
      "mu[14]   23.75    0.03   0.42  22.95  23.45  23.76  24.03  24.66  164.0    1.0\n",
      "mu[15]   23.76    0.03   0.42  22.96  23.46  23.76  24.04  24.66  164.0    1.0\n",
      "mu[16]   23.58    0.03   0.42  22.79  23.27  23.58  23.85  24.46  165.0    1.0\n",
      "mu[17]   23.69    0.03   0.42   22.9  23.39  23.69  23.97  24.59  164.0    1.0\n",
      "mu[18]   23.68    0.03   0.42  22.89  23.38  23.69  23.96  24.58  164.0    1.0\n",
      "mu[19]   23.72    0.03   0.42  22.92  23.41  23.72  23.99  24.62  164.0    1.0\n",
      "mu[20]    23.5    0.03   0.41  22.71  23.19   23.5  23.77  24.37  165.0    1.0\n",
      "mu[21]   23.66    0.03   0.42  22.87  23.36  23.67  23.94  24.56  165.0    1.0\n",
      "mu[22]   23.51    0.03   0.41  22.72   23.2  23.51  23.78  24.38  165.0    1.0\n",
      "mu[23]   23.61    0.03   0.42  22.82   23.3  23.61  23.88  24.49  165.0    1.0\n",
      "mu[24]   23.71    0.03   0.42  22.91   23.4  23.71  23.98   24.6  164.0    1.0\n",
      "mu[25]   23.67    0.03   0.42  22.88  23.36  23.67  23.94  24.56  164.0    1.0\n",
      "mu[26]   23.74    0.03   0.42  22.94  23.44  23.74  24.02  24.64  164.0    1.0\n",
      "mu[27]   23.62    0.03   0.42  22.84  23.31  23.62   23.9  24.51  165.0    1.0\n",
      "mu[28]    23.7    0.03   0.42   22.9  23.39   23.7  23.97  24.59  164.0    1.0\n",
      "mu[29]    23.6    0.03   0.42  22.82  23.29   23.6  23.88  24.49  165.0    1.0\n",
      "mu[30]   23.55    0.03   0.42  22.76  23.24  23.55  23.82  24.43  165.0    1.0\n",
      "mu[31]   23.46    0.03   0.41  22.67  23.15  23.46  23.73  24.32  166.0    1.0\n",
      "mu[32]   23.44    0.03   0.41  22.66  23.14  23.45  23.71  24.31  166.0    1.0\n",
      "mu[33]   23.54    0.03   0.41  22.75  23.23  23.54  23.81  24.42  165.0    1.0\n",
      "mu[34]   23.35    0.03   0.41  22.57  23.05  23.35  23.62  24.21  166.0    1.0\n",
      "mu[35]   23.99    0.03   0.43  23.17  23.69   24.0  24.28  24.91  163.0    1.0\n",
      "mu[36]   23.97    0.03   0.43  23.16  23.67  23.99  24.26   24.9  163.0    1.0\n",
      "mu[37]   23.98    0.03   0.43  23.16  23.68  23.99  24.27   24.9  163.0    1.0\n",
      "mu[38]   23.94    0.03   0.43  23.13  23.64  23.95  24.23  24.86  163.0    1.0\n",
      "mu[39]    24.0    0.03   0.43  23.19   23.7  24.02  24.29  24.93  163.0    1.0\n",
      "mu[40]    24.0    0.03   0.43  23.18   23.7  24.02  24.29  24.92  163.0    1.0\n",
      "mu[41]   23.96    0.03   0.43  23.15  23.66  23.98  24.25  24.88  163.0    1.0\n",
      "mu[42]   23.96    0.03   0.43  23.14  23.65  23.97  24.24  24.88  163.0    1.0\n",
      "mu[43]   23.95    0.03   0.43  23.13  23.64  23.96  24.24  24.87  163.0    1.0\n",
      "mu[44]   23.96    0.03   0.43  23.15  23.66  23.98  24.25  24.89  163.0    1.0\n",
      "mu[45]   23.94    0.03   0.43  23.13  23.64  23.96  24.23  24.87  163.0    1.0\n",
      "mu[46]   23.94    0.03   0.43  23.12  23.63  23.95  24.23  24.86  163.0    1.0\n",
      "mu[47]   23.92    0.03   0.43  23.11  23.61  23.93  24.21  24.84  163.0    1.0\n",
      "mu[48]   23.91    0.03   0.43   23.1   23.6  23.92   24.2  24.83  163.0    1.0\n",
      "mu[49]   23.92    0.03   0.43  23.11  23.62  23.94  24.21  24.85  163.0    1.0\n",
      "mu[50]   23.98    0.03   0.43  23.16  23.67  23.99  24.27   24.9  163.0    1.0\n",
      "mu[51]    24.0    0.03   0.43  23.18   23.7  24.01  24.29  24.92  163.0    1.0\n",
      "mu[52]   23.99    0.03   0.43  23.18  23.69  24.01  24.28  24.92  163.0    1.0\n",
      "mu[53]   23.99    0.03   0.43  23.18  23.69  24.01  24.28  24.92  163.0    1.0\n",
      "mu[54]   24.01    0.03   0.43  23.19  23.71  24.03   24.3  24.93  163.0    1.0\n",
      "mu[55]   24.01    0.03   0.43  23.19  23.71  24.03   24.3  24.93  163.0    1.0\n",
      "mu[56]   24.01    0.03   0.43  23.19  23.71  24.02   24.3  24.93  163.0    1.0\n",
      "mu[57]   24.01    0.03   0.43  23.19  23.71  24.03   24.3  24.93  163.0    1.0\n",
      "mu[58]   23.95    0.03   0.43  23.14  23.65  23.96  24.24  24.87  163.0    1.0\n",
      "mu[59]   23.97    0.03   0.43  23.16  23.67  23.98  24.26   24.9  163.0    1.0\n",
      "mu[60]   23.95    0.03   0.43  23.14  23.65  23.97  24.24  24.88  163.0    1.0\n",
      "mu[61]   23.94    0.03   0.43  23.13  23.64  23.96  24.23  24.87  163.0    1.0\n",
      "mu[62]   23.97    0.03   0.43  23.15  23.67  23.98  24.26  24.89  163.0    1.0\n",
      "mu[63]   23.96    0.03   0.43  23.15  23.66  23.98  24.25  24.89  163.0    1.0\n",
      "mu[64]   24.01    0.03   0.43  23.19  23.71  24.02   24.3  24.93  163.0    1.0\n",
      "mu[65]    24.0    0.03   0.43  23.18   23.7  24.02  24.29  24.92  163.0    1.0\n",
      "mu[66]    24.0    0.03   0.43  23.18   23.7  24.01  24.29  24.92  163.0    1.0\n",
      "mu[67]   23.99    0.03   0.43  23.17  23.69  24.01  24.28  24.91  163.0    1.0\n",
      "mu[68]   23.96    0.03   0.43  23.14  23.65  23.97  24.25  24.88  163.0    1.0\n",
      "mu[69]   23.96    0.03   0.43  23.15  23.66  23.97  24.25  24.88  163.0    1.0\n",
      "mu[70]   23.98    0.03   0.43  23.16  23.68  23.99  24.27   24.9  163.0    1.0\n",
      "mu[71]   23.95    0.03   0.43  23.13  23.64  23.96  24.24  24.87  163.0    1.0\n",
      "mu[72]   23.98    0.03   0.43  23.16  23.67  23.99  24.27   24.9  163.0    1.0\n",
      "mu[73]   23.93    0.03   0.43  23.12  23.63  23.95  24.22  24.86  163.0    1.0\n",
      "mu[74]   23.98    0.03   0.43  23.17  23.68   24.0  24.27  24.91  163.0    1.0\n",
      "mu[75]   23.98    0.03   0.43  23.16  23.67  23.99  24.26   24.9  163.0    1.0\n",
      "mu[76]   23.97    0.03   0.43  23.16  23.67  23.99  24.26   24.9  163.0    1.0\n",
      "mu[77]   23.98    0.03   0.43  23.16  23.68  23.99  24.27   24.9  163.0    1.0\n",
      "mu[78]   23.99    0.03   0.43  23.17  23.69  24.01  24.28  24.91  163.0    1.0\n",
      "mu[79]   23.98    0.03   0.43  23.16  23.68  23.99  24.27   24.9  163.0    1.0\n",
      "mu[80]    24.0    0.03   0.43  23.18   23.7  24.01  24.29  24.92  163.0    1.0\n",
      "mu[81]    24.0    0.03   0.43  23.18  23.69  24.01  24.29  24.92  163.0    1.0\n",
      "mu[82]    24.0    0.03   0.43  23.18   23.7  24.02  24.29  24.92  163.0    1.0\n",
      "mu[83]    24.0    0.03   0.43  23.18   23.7  24.02  24.29  24.92  163.0    1.0\n",
      "mu[84]   23.99    0.03   0.43  23.18  23.69  24.01  24.28  24.92  163.0    1.0\n",
      "mu[85]   23.99    0.03   0.43  23.17  23.69  24.01  24.28  24.91  163.0    1.0\n",
      "mu[86]   23.99    0.03   0.43  23.18  23.69  24.01  24.28  24.92  163.0    1.0\n",
      "mu[87]   23.99    0.03   0.43  23.17  23.68   24.0  24.27  24.91  163.0    1.0\n",
      "mu[88]   23.99    0.03   0.43  23.17  23.69  24.01  24.28  24.91  163.0    1.0\n",
      "mu[89]   23.99    0.03   0.43  23.18  23.69  24.01  24.28  24.92  163.0    1.0\n",
      "mu[90]    24.0    0.03   0.43  23.18  23.69  24.01  24.29  24.92  163.0    1.0\n",
      "mu[91]    24.0    0.03   0.43  23.18   23.7  24.01  24.29  24.92  163.0    1.0\n",
      "mu[92]    24.0    0.03   0.43  23.18   23.7  24.01  24.29  24.92  163.0    1.0\n",
      "mu[93]    24.0    0.03   0.43  23.18   23.7  24.02  24.29  24.93  163.0    1.0\n",
      "mu[94]    24.0    0.03   0.43  23.18   23.7  24.01  24.29  24.92  163.0    1.0\n",
      "mu[95]   23.96    0.03   0.43  23.15  23.66  23.98  24.25  24.89  163.0    1.0\n",
      "mu[96]   23.97    0.03   0.43  23.15  23.66  23.98  24.26  24.89  163.0    1.0\n",
      "mu[97]   23.97    0.03   0.43  23.15  23.66  23.98  24.25  24.89  163.0    1.0\n",
      "mu[98]   23.98    0.03   0.43  23.16  23.68  23.99  24.27   24.9  163.0    1.0\n",
      "mu[99]   23.99    0.03   0.43  23.17  23.68   24.0  24.28  24.91  163.0    1.0\n",
      "mu[100]  23.95    0.03   0.43  23.14  23.65  23.97  24.24  24.88  163.0    1.0\n",
      "mu[101]  23.97    0.03   0.43  23.15  23.66  23.98  24.26  24.89  163.0    1.0\n",
      "mu[102]  23.92    0.03   0.43  23.11  23.61  23.93  24.21  24.84  163.0    1.0\n",
      "mu[103]  23.93    0.03   0.43  23.11  23.62  23.94  24.22  24.85  163.0    1.0\n",
      "mu[104]  23.96    0.03   0.43  23.14  23.65  23.97  24.25  24.88  163.0    1.0\n",
      "mu[105]  23.96    0.03   0.43  23.14  23.65  23.97  24.25  24.88  163.0    1.0\n",
      "mu[106]  23.94    0.03   0.43  23.13  23.64  23.96  24.23  24.87  163.0    1.0\n",
      "mu[107]  23.96    0.03   0.43  23.15  23.66  23.97  24.25  24.88  163.0    1.0\n",
      "mu[108]  23.96    0.03   0.43  23.15  23.66  23.97  24.25  24.88  163.0    1.0\n",
      "mu[109]  23.91    0.03   0.43  23.09   23.6  23.92   24.2  24.83  163.0    1.0\n",
      "mu[110]  23.97    0.03   0.43  23.15  23.67  23.98  24.26  24.89  163.0    1.0\n",
      "mu[111]  23.97    0.03   0.43  23.16  23.67  23.99  24.26   24.9  163.0    1.0\n",
      "mu[112]  23.96    0.03   0.43  23.15  23.66  23.98  24.25  24.89  163.0    1.0\n",
      "mu[113]  23.92    0.03   0.43  23.11  23.62  23.93  24.21  24.84  163.0    1.0\n",
      "mu[114]  23.96    0.03   0.43  23.14  23.65  23.97  24.24  24.88  163.0    1.0\n",
      "mu[115]  23.94    0.03   0.43  23.13  23.64  23.96  24.23  24.87  163.0    1.0\n",
      "mu[116]  23.96    0.03   0.43  23.15  23.66  23.97  24.25  24.88  163.0    1.0\n",
      "mu[117]  23.95    0.03   0.43  23.14  23.65  23.97  24.24  24.87  163.0    1.0\n",
      "mu[118]  23.96    0.03   0.43  23.15  23.66  23.97  24.25  24.88  163.0    1.0\n",
      "mu[119]  23.96    0.03   0.43  23.14  23.65  23.97  24.24  24.88  163.0    1.0\n",
      "mu[120]  23.99    0.03   0.43  23.17  23.68   24.0  24.28  24.91  163.0    1.0\n",
      "mu[121]  23.99    0.03   0.43  23.17  23.68   24.0  24.27  24.91  163.0    1.0\n",
      "mu[122]  23.98    0.03   0.43  23.16  23.67  23.99  24.27   24.9  163.0    1.0\n",
      "mu[123]  23.95    0.03   0.43  23.14  23.65  23.97  24.24  24.88  163.0    1.0\n",
      "mu[124]  23.97    0.03   0.43  23.16  23.67  23.99  24.26   24.9  163.0    1.0\n",
      "mu[125]  23.95    0.03   0.43  23.13  23.64  23.96  24.23  24.87  163.0    1.0\n",
      "mu[126]  23.86    0.03   0.42  23.05  23.55  23.86  24.15  24.77  164.0    1.0\n",
      "mu[127]  23.91    0.03   0.43   23.1   23.6  23.92   24.2  24.83  163.0    1.0\n",
      "mu[128]  23.88    0.03   0.42  23.07  23.58  23.89  24.17   24.8  164.0    1.0\n",
      "mu[129]  23.65    0.03   0.42  22.86  23.34  23.65  23.93  24.54  165.0    1.0\n",
      "mu[130]  23.87    0.03   0.42  23.07  23.57  23.88  24.16  24.79  164.0    1.0\n",
      "mu[131]  23.52    0.03   0.41  22.74  23.22  23.53  23.79   24.4  165.0    1.0\n",
      "mu[132]  23.77    0.03   0.42  22.97  23.47  23.78  24.06  24.68  164.0    1.0\n",
      "mu[133]  23.88    0.03   0.42  23.07  23.58  23.89  24.17   24.8  164.0    1.0\n",
      "mu[134]  23.61    0.03   0.42  22.83   23.3  23.61  23.89   24.5  165.0    1.0\n",
      "mu[135]  23.78    0.03   0.42  22.98  23.49  23.79  24.07  24.69  164.0    1.0\n",
      "mu[136]  23.88    0.03   0.42  23.07  23.58  23.89  24.17   24.8  164.0    1.0\n",
      "mu[137]  23.87    0.03   0.42  23.06  23.57  23.88  24.16  24.79  164.0    1.0\n",
      "mu[138]  23.91    0.03   0.43   23.1  23.61  23.92   24.2  24.83  163.0    1.0\n",
      "mu[139]  23.79    0.03   0.42  22.99  23.49  23.79  24.08   24.7  164.0    1.0\n",
      "mu[140]   23.9    0.03   0.42  23.08  23.59  23.91  24.19  24.82  163.0    1.0\n",
      "mu[141]  23.34    0.03   0.41  22.57  23.05  23.34  23.61   24.2  166.0    1.0\n",
      "mu[142]  22.64    0.03   0.41  21.91  22.36  22.63  22.91  23.51  167.0    1.0\n",
      "mu[143]  22.32    0.03   0.41  21.56  22.04   22.3  22.59  23.19  167.0    1.0\n",
      "mu[144]  22.87    0.03   0.41  22.14  22.59  22.86  23.13  23.72  167.0    1.0\n",
      "mu[145]  23.03    0.03   0.41  22.28  22.75  23.04   23.3  23.88  167.0    1.0\n",
      "mu[146]  23.13    0.03   0.41  22.37  22.83  23.12  23.39  23.98  167.0    1.0\n",
      "mu[147]  23.04    0.03   0.41  22.29  22.76  23.04   23.3  23.89  167.0    1.0\n",
      "mu[148]  23.05    0.03   0.41   22.3  22.77  23.05  23.32   23.9  167.0    1.0\n",
      "mu[149]  22.89    0.03   0.41  22.15  22.61  22.88  23.15  23.74  167.0    1.0\n",
      "mu[150]  23.33    0.03   0.41  22.56  23.03  23.33   23.6  24.19  166.0    1.0\n",
      "mu[151]   23.4    0.03   0.41  22.62  23.09   23.4  23.67  24.26  166.0    1.0\n",
      "mu[152]  23.55    0.03   0.42  22.76  23.24  23.55  23.82  24.43  165.0    1.0\n",
      "mu[153]  23.13    0.03   0.41  22.37  22.84  23.12  23.39  23.98  167.0    1.0\n",
      "mu[154]  23.43    0.03   0.41  22.65  23.12  23.44   23.7   24.3  166.0    1.0\n",
      "mu[155]  22.56    0.03   0.41  21.82  22.28  22.54  22.82  23.44  167.0    1.0\n",
      "mu[156]  23.01    0.03   0.41  22.26  22.73  23.01  23.27  23.86  167.0    1.0\n",
      "mu[157]  23.51    0.03   0.41  22.73   23.2  23.52  23.78  24.38  165.0    1.0\n",
      "mu[158]  23.46    0.03   0.41  22.68  23.16  23.47  23.73  24.33  165.0    1.0\n",
      "mu[159]  23.43    0.03   0.41  22.65  23.12  23.43   23.7  24.29  166.0    1.0\n",
      "mu[160]  23.49    0.03   0.41  22.71  23.18   23.5  23.76  24.36  165.0    1.0\n",
      "mu[161]  23.41    0.03   0.41  22.63   23.1  23.42  23.68  24.27  166.0    1.0\n",
      "mu[162]  23.26    0.03   0.41  22.49  22.97  23.26  23.53  24.11  167.0    1.0\n",
      "mu[163]  23.39    0.03   0.41  22.61  23.08  23.39  23.66  24.25  166.0    1.0\n",
      "mu[164]  23.09    0.03   0.41  22.33   22.8  23.08  23.36  23.94  167.0    1.0\n",
      "mu[165]  22.81    0.03   0.41  22.08  22.53   22.8  23.08  23.66  167.0    1.0\n",
      "mu[166]  23.19    0.03   0.41  22.42   22.9  23.18  23.45  24.04  167.0    1.0\n",
      "mu[167]  23.27    0.03   0.41   22.5  22.98  23.28  23.54  24.12  166.0    1.0\n",
      "mu[168]  23.07    0.03   0.41  22.31  22.78  23.06  23.33  23.92  167.0    1.0\n",
      "mu[169]   23.0    0.03   0.41  22.26  22.73  23.01  23.27  23.85  167.0    1.0\n",
      "mu[170]  23.52    0.03   0.41  22.73  23.21  23.52  23.79  24.39  165.0    1.0\n",
      "mu[171]  23.06    0.03   0.41  22.31  22.78  23.06  23.32  23.91  167.0    1.0\n",
      "mu[172]  23.96    0.03   0.43  23.14  23.65  23.97  24.25  24.88  163.0    1.0\n",
      "mu[173]  23.98    0.03   0.43  23.16  23.67  23.99  24.27   24.9  163.0    1.0\n",
      "mu[174]  23.98    0.03   0.43  23.16  23.68  23.99  24.27   24.9  163.0    1.0\n",
      "mu[175]  23.99    0.03   0.43  23.17  23.68   24.0  24.28  24.91  163.0    1.0\n",
      "mu[176]  23.99    0.03   0.43  23.17  23.68   24.0  24.28  24.91  163.0    1.0\n",
      "mu[177]  23.99    0.03   0.43  23.17  23.69  24.01  24.28  24.92  163.0    1.0\n",
      "mu[178]  23.99    0.03   0.43  23.17  23.69   24.0  24.28  24.91  163.0    1.0\n",
      "mu[179]  23.99    0.03   0.43  23.17  23.69  24.01  24.28  24.91  163.0    1.0\n",
      "mu[180]  23.99    0.03   0.43  23.17  23.69   24.0  24.28  24.91  163.0    1.0\n",
      "mu[181]  23.99    0.03   0.43  23.17  23.68   24.0  24.28  24.91  163.0    1.0\n",
      "mu[182]  23.98    0.03   0.43  23.16  23.67  23.99  24.27   24.9  163.0    1.0\n",
      "mu[183]  23.97    0.03   0.43  23.16  23.67  23.99  24.26   24.9  163.0    1.0\n",
      "mu[184]  23.98    0.03   0.43  23.16  23.68  23.99  24.27   24.9  163.0    1.0\n",
      "mu[185]  23.99    0.03   0.43  23.17  23.69   24.0  24.28  24.91  163.0    1.0\n",
      "mu[186]  23.99    0.03   0.43  23.17  23.69  24.01  24.28  24.91  163.0    1.0\n",
      "mu[187]  23.98    0.03   0.43  23.17  23.68   24.0  24.27  24.91  163.0    1.0\n",
      "mu[188]  23.96    0.03   0.43  23.15  23.66  23.98  24.25  24.89  163.0    1.0\n",
      "mu[189]  23.98    0.03   0.43  23.16  23.68  23.99  24.27   24.9  163.0    1.0\n",
      "mu[190]  23.98    0.03   0.43  23.16  23.67  23.99  24.27   24.9  163.0    1.0\n",
      "mu[191]  23.99    0.03   0.43  23.17  23.68   24.0  24.28  24.91  163.0    1.0\n",
      "mu[192]  23.98    0.03   0.43  23.16  23.68  23.99  24.27   24.9  163.0    1.0\n",
      "mu[193]  24.01    0.03   0.43  23.19   23.7  24.02   24.3  24.93  163.0    1.0\n",
      "mu[194]  24.01    0.03   0.43  23.19  23.71  24.03   24.3  24.93  163.0    1.0\n",
      "mu[195]  24.01    0.03   0.43  23.19  23.71  24.03   24.3  24.93  163.0    1.0\n",
      "mu[196]   24.0    0.03   0.43  23.18   23.7  24.01  24.29  24.92  163.0    1.0\n",
      "mu[197]   24.0    0.03   0.43  23.18  23.69  24.01  24.29  24.92  163.0    1.0\n",
      "mu[198]   24.0    0.03   0.43  23.18   23.7  24.01  24.29  24.92  163.0    1.0\n",
      "mu[199]   24.0    0.03   0.43  23.18   23.7  24.02  24.29  24.93  163.0    1.0\n",
      "mu[200]  24.01    0.03   0.43  23.19  23.71  24.02   24.3  24.93  163.0    1.0\n",
      "mu[201]   24.0    0.03   0.43  23.18   23.7  24.02  24.29  24.92  163.0    1.0\n",
      "mu[202]  24.01    0.03   0.43  23.19   23.7  24.02   24.3  24.93  163.0    1.0\n",
      "mu[203]   24.0    0.03   0.43  23.18   23.7  24.02  24.29  24.92  163.0    1.0\n",
      "mu[204]  24.01    0.03   0.43  23.19  23.71  24.02   24.3  24.93  163.0    1.0\n",
      "mu[205]  23.96    0.03   0.43  23.14  23.65  23.97  24.25  24.88  163.0    1.0\n",
      "mu[206]  23.92    0.03   0.43  23.11  23.61  23.93  24.21  24.84  163.0    1.0\n",
      "mu[207]  23.91    0.03   0.43   23.1  23.61  23.92   24.2  24.83  163.0    1.0\n",
      "mu[208]  23.96    0.03   0.43  23.14  23.65  23.97  24.25  24.88  163.0    1.0\n",
      "mu[209]  23.84    0.03   0.42  23.03  23.54  23.84  24.13  24.75  164.0    1.0\n",
      "mu[210]  23.94    0.03   0.43  23.13  23.64  23.96  24.23  24.87  163.0    1.0\n",
      "mu[211]  23.86    0.03   0.42  23.05  23.56  23.87  24.15  24.78  164.0    1.0\n",
      "mu[212]  23.93    0.03   0.43  23.11  23.62  23.94  24.21  24.85  163.0    1.0\n",
      "mu[213]  23.96    0.03   0.43  23.14  23.65  23.97  24.24  24.88  163.0    1.0\n",
      "mu[214]   23.9    0.03   0.42  23.08  23.59  23.91  24.19  24.82  163.0    1.0\n",
      "mu[215]  23.93    0.03   0.43  23.12  23.63  23.94  24.22  24.86  163.0    1.0\n",
      "mu[216]   24.0    0.03   0.43  23.18  23.69  24.01  24.29  24.92  163.0    1.0\n",
      "mu[217]  23.99    0.03   0.43  23.17  23.68   24.0  24.28  24.91  163.0    1.0\n",
      "mu[218]  23.97    0.03   0.43  23.15  23.66  23.98  24.26  24.89  163.0    1.0\n",
      "mu[219]  23.97    0.03   0.43  23.15  23.66  23.98  24.26  24.89  163.0    1.0\n",
      "mu[220]  23.87    0.03   0.42  23.06  23.57  23.88  24.16  24.79  164.0    1.0\n",
      "mu[221]  23.85    0.03   0.42  23.04  23.55  23.85  24.14  24.76  164.0    1.0\n",
      "mu[222]  23.76    0.03   0.42  22.96  23.46  23.76  24.04  24.66  164.0    1.0\n",
      "mu[223]  23.76    0.03   0.42  22.96  23.46  23.77  24.04  24.67  164.0    1.0\n",
      "mu[224]  23.88    0.03   0.42  23.08  23.58  23.89  24.18  24.81  164.0    1.0\n",
      "mu[225]   23.8    0.03   0.42  22.99   23.5   23.8  24.09  24.71  164.0    1.0\n",
      "mu[226]  23.86    0.03   0.42  23.05  23.56  23.86  24.15  24.77  164.0    1.0\n",
      "mu[227]  23.84    0.03   0.42  23.04  23.55  23.85  24.14  24.76  164.0    1.0\n",
      "mu[228]  23.89    0.03   0.42  23.08  23.59   23.9  24.18  24.81  163.0    1.0\n",
      "mu[229]  23.83    0.03   0.42  23.03  23.53  23.84  24.12  24.75  164.0    1.0\n",
      "mu[230]  23.79    0.03   0.42  22.99  23.49   23.8  24.08   24.7  164.0    1.0\n",
      "mu[231]  23.82    0.03   0.42  23.02  23.53  23.83  24.11  24.74  164.0    1.0\n",
      "mu[232]  23.78    0.03   0.42  22.98  23.48  23.78  24.06  24.69  164.0    1.0\n",
      "mu[233]  23.88    0.03   0.42  23.07  23.58  23.89  24.17   24.8  164.0    1.0\n",
      "mu[234]  23.83    0.03   0.42  23.02  23.53  23.83  24.12  24.74  164.0    1.0\n",
      "mu[235]  23.88    0.03   0.42  23.07  23.58  23.89  24.17   24.8  164.0    1.0\n",
      "mu[236]   23.8    0.03   0.42   23.0   23.5   23.8  24.09  24.71  164.0    1.0\n",
      "mu[237]   23.8    0.03   0.42   23.0  23.51  23.81  24.09  24.71  164.0    1.0\n",
      "mu[238]  23.98    0.03   0.43  23.16  23.68  23.99  24.27   24.9  163.0    1.0\n",
      "mu[239]  23.98    0.03   0.43  23.16  23.67  23.99  24.27   24.9  163.0    1.0\n",
      "mu[240]  23.97    0.03   0.43  23.15  23.66  23.98  24.26  24.89  163.0    1.0\n",
      "mu[241]  23.97    0.03   0.43  23.15  23.67  23.98  24.26  24.89  163.0    1.0\n",
      "mu[242]  23.97    0.03   0.43  23.16  23.67  23.99  24.26   24.9  163.0    1.0\n",
      "mu[243]  23.96    0.03   0.43  23.15  23.66  23.97  24.25  24.88  163.0    1.0\n",
      "mu[244]  23.93    0.03   0.43  23.12  23.62  23.94  24.22  24.85  163.0    1.0\n",
      "mu[245]  23.94    0.03   0.43  23.12  23.63  23.95  24.22  24.86  163.0    1.0\n",
      "mu[246]  23.87    0.03   0.42  23.07  23.57  23.88  24.16  24.79  164.0    1.0\n",
      "mu[247]  23.93    0.03   0.43  23.12  23.63  23.95  24.22  24.86  163.0    1.0\n",
      "mu[248]  23.95    0.03   0.43  23.13  23.64  23.96  24.24  24.87  163.0    1.0\n",
      "mu[249]  23.94    0.03   0.43  23.12  23.63  23.95  24.23  24.86  163.0    1.0\n",
      "mu[250]  23.96    0.03   0.43  23.14  23.65  23.97  24.24  24.88  163.0    1.0\n",
      "mu[251]  23.93    0.03   0.43  23.11  23.62  23.94  24.22  24.85  163.0    1.0\n",
      "mu[252]  23.98    0.03   0.43  23.16  23.68  23.99  24.27   24.9  163.0    1.0\n",
      "mu[253]  23.86    0.03   0.42  23.05  23.56  23.87  24.15  24.78  164.0    1.0\n",
      "mu[254]   24.0    0.03   0.43  23.18  23.69  24.01  24.29  24.92  163.0    1.0\n",
      "mu[255]   24.0    0.03   0.43  23.18   23.7  24.02  24.29  24.92  163.0    1.0\n",
      "mu[256]  24.01    0.03   0.43  23.19  23.71  24.02   24.3  24.93  163.0    1.0\n",
      "mu[257]  23.76    0.03   0.42  22.96  23.46  23.77  24.05  24.67  164.0    1.0\n",
      "mu[258]  23.74    0.03   0.42  22.94  23.44  23.75  24.02  24.64  164.0    1.0\n",
      "mu[259]  23.74    0.03   0.42  22.95  23.44  23.75  24.03  24.65  164.0    1.0\n",
      "mu[260]  23.79    0.03   0.42  22.99  23.49   23.8  24.08   24.7  164.0    1.0\n",
      "mu[261]  23.79    0.03   0.42  22.99   23.5   23.8  24.08   24.7  164.0    1.0\n",
      "mu[262]   23.8    0.03   0.42   23.0   23.5   23.8  24.09  24.71  164.0    1.0\n",
      "mu[263]  23.67    0.03   0.42  22.88  23.37  23.68  23.95  24.57  164.0    1.0\n",
      "mu[264]  23.79    0.03   0.42  22.99  23.49  23.79  24.07   24.7  164.0    1.0\n",
      "mu[265]   23.7    0.03   0.42  22.91   23.4   23.7  23.98   24.6  164.0    1.0\n",
      "mu[266]  23.69    0.03   0.42   22.9  23.39  23.69  23.97  24.59  164.0    1.0\n",
      "mu[267]  23.78    0.03   0.42  22.97  23.48  23.78  24.06  24.68  164.0    1.0\n",
      "mu[268]  23.79    0.03   0.42  22.99  23.49   23.8  24.08   24.7  164.0    1.0\n",
      "mu[269]  23.98    0.03   0.43  23.16  23.67  23.99  24.27   24.9  163.0    1.0\n",
      "mu[270]  23.89    0.03   0.42  23.08  23.59   23.9  24.18  24.81  163.0    1.0\n",
      "mu[271]  23.95    0.03   0.43  23.13  23.64  23.96  24.24  24.87  163.0    1.0\n",
      "mu[272]  23.97    0.03   0.43  23.15  23.66  23.98  24.26  24.89  163.0    1.0\n",
      "mu[273]  23.92    0.03   0.43  23.11  23.62  23.94  24.21  24.85  163.0    1.0\n",
      "mu[274]  23.99    0.03   0.43  23.17  23.69  24.01  24.28  24.91  163.0    1.0\n",
      "mu[275]  23.98    0.03   0.43  23.16  23.67  23.99  24.26   24.9  163.0    1.0\n",
      "mu[276]  23.97    0.03   0.43  23.16  23.67  23.98  24.26  24.89  163.0    1.0\n",
      "mu[277]  23.99    0.03   0.43  23.17  23.69   24.0  24.28  24.91  163.0    1.0\n",
      "mu[278]  23.98    0.03   0.43  23.17  23.68  23.99  24.27   24.9  163.0    1.0\n",
      "mu[279]  23.93    0.03   0.43  23.12  23.62  23.94  24.22  24.85  163.0    1.0\n",
      "mu[280]   24.0    0.03   0.43  23.18   23.7  24.02  24.29  24.92  163.0    1.0\n",
      "mu[281]   24.0    0.03   0.43  23.18   23.7  24.01  24.29  24.92  163.0    1.0\n",
      "mu[282]  23.99    0.03   0.43  23.17  23.69   24.0  24.28  24.91  163.0    1.0\n",
      "mu[283]  24.01    0.03   0.43  23.19  23.71  24.03   24.3  24.93  163.0    1.0\n",
      "mu[284]  24.01    0.03   0.43  23.19  23.71  24.03   24.3  24.93  163.0    1.0\n",
      "mu[285]  24.01    0.03   0.43  23.19  23.71  24.03   24.3  24.93  163.0    1.0\n",
      "mu[286]  24.01    0.03   0.43  23.19  23.71  24.02   24.3  24.93  163.0    1.0\n",
      "mu[287]   24.0    0.03   0.43  23.18   23.7  24.01  24.29  24.92  163.0    1.0\n",
      "mu[288]   24.0    0.03   0.43  23.18  23.69  24.01  24.29  24.92  163.0    1.0\n",
      "mu[289]   24.0    0.03   0.43  23.18   23.7  24.01  24.29  24.92  163.0    1.0\n",
      "mu[290]   24.0    0.03   0.43  23.18   23.7  24.02  24.29  24.92  163.0    1.0\n",
      "mu[291]  23.98    0.03   0.43  23.17  23.68   24.0  24.27  24.91  163.0    1.0\n",
      "mu[292]   24.0    0.03   0.43  23.18   23.7  24.02  24.29  24.92  163.0    1.0\n",
      "mu[293]  23.98    0.03   0.43  23.16  23.68  23.99  24.27   24.9  163.0    1.0\n",
      "mu[294]  23.98    0.03   0.43  23.16  23.68  23.99  24.27   24.9  163.0    1.0\n",
      "mu[295]  23.96    0.03   0.43  23.15  23.66  23.97  24.25  24.88  163.0    1.0\n",
      "mu[296]  23.99    0.03   0.43  23.18  23.69  24.01  24.28  24.92  163.0    1.0\n",
      "mu[297]  23.96    0.03   0.43  23.14  23.65  23.97  24.24  24.88  163.0    1.0\n",
      "mu[298]  23.99    0.03   0.43  23.17  23.69   24.0  24.28  24.91  163.0    1.0\n",
      "mu[299]  23.99    0.03   0.43  23.17  23.69  24.01  24.28  24.92  163.0    1.0\n",
      "mu[300]   24.0    0.03   0.43  23.18  23.69  24.01  24.29  24.92  163.0    1.0\n",
      "mu[301]   24.0    0.03   0.43  23.18   23.7  24.02  24.29  24.92  163.0    1.0\n",
      "mu[302]  23.98    0.03   0.43  23.16  23.67  23.99  24.27   24.9  163.0    1.0\n",
      "mu[303]  23.97    0.03   0.43  23.16  23.67  23.99  24.26   24.9  163.0    1.0\n",
      "mu[304]  23.99    0.03   0.43  23.17  23.69  24.01  24.28  24.92  163.0    1.0\n",
      "mu[305]  23.99    0.03   0.43  23.17  23.69  24.01  24.28  24.92  163.0    1.0\n",
      "mu[306]  23.98    0.03   0.43  23.17  23.68   24.0  24.27  24.91  163.0    1.0\n",
      "mu[307]  23.99    0.03   0.43  23.18  23.69  24.01  24.28  24.92  163.0    1.0\n",
      "mu[308]  23.81    0.03   0.42  23.01  23.51  23.81   24.1  24.72  164.0    1.0\n",
      "mu[309]  23.87    0.03   0.42  23.06  23.57  23.88  24.16  24.79  164.0    1.0\n",
      "mu[310]  22.93    0.03   0.41  22.19  22.65  22.92  23.19  23.78  167.0    1.0\n",
      "mu[311]  23.69    0.03   0.42  22.89  23.39  23.69  23.97  24.59  164.0    1.0\n",
      "mu[312]  23.91    0.03   0.43   23.1   23.6  23.92   24.2  24.83  163.0    1.0\n",
      "mu[313]   23.9    0.03   0.43  23.09   23.6  23.92  24.19  24.83  163.0    1.0\n",
      "mu[314]  23.86    0.03   0.42  23.05  23.56  23.87  24.15  24.78  164.0    1.0\n",
      "mu[315]  23.91    0.03   0.43   23.1   23.6  23.92   24.2  24.83  163.0    1.0\n",
      "mu[316]  23.88    0.03   0.42  23.07  23.58  23.89  24.17   24.8  164.0    1.0\n",
      "mu[317]  23.91    0.03   0.43   23.1  23.61  23.93   24.2  24.84  163.0    1.0\n",
      "mu[318]  23.85    0.03   0.42  23.04  23.55  23.86  24.14  24.77  164.0    1.0\n",
      "mu[319]  23.82    0.03   0.42  23.01  23.52  23.82  24.11  24.73  164.0    1.0\n",
      "mu[320]  23.95    0.03   0.43  23.13  23.64  23.96  24.23  24.87  163.0    1.0\n",
      "mu[321]  23.94    0.03   0.43  23.13  23.63  23.95  24.23  24.86  163.0    1.0\n",
      "mu[322]  23.87    0.03   0.42  23.06  23.57  23.88  24.16  24.79  164.0    1.0\n",
      "mu[323]   23.9    0.03   0.42  23.09  23.59  23.91  24.19  24.82  163.0    1.0\n",
      "mu[324]  23.87    0.03   0.42  23.07  23.57  23.88  24.16  24.79  164.0    1.0\n",
      "mu[325]  23.94    0.03   0.43  23.12  23.63  23.95  24.22  24.86  163.0    1.0\n",
      "mu[326]  23.89    0.03   0.42  23.08  23.59   23.9  24.18  24.81  163.0    1.0\n",
      "mu[327]  23.92    0.03   0.43   23.1  23.61  23.93  24.21  24.84  163.0    1.0\n",
      "mu[328]  23.99    0.03   0.43  23.17  23.69   24.0  24.28  24.91  163.0    1.0\n",
      "mu[329]  23.99    0.03   0.43  23.17  23.68   24.0  24.28  24.91  163.0    1.0\n",
      "mu[330]   24.0    0.03   0.43  23.18  23.69  24.01  24.29  24.92  163.0    1.0\n",
      "mu[331]  23.99    0.03   0.43  23.18  23.69  24.01  24.28  24.92  163.0    1.0\n",
      "mu[332]   24.0    0.03   0.43  23.18   23.7  24.02  24.29  24.92  163.0    1.0\n",
      "mu[333]  23.99    0.03   0.43  23.18  23.69  24.01  24.28  24.92  163.0    1.0\n",
      "mu[334]   24.0    0.03   0.43  23.18   23.7  24.01  24.29  24.92  163.0    1.0\n",
      "mu[335]   24.0    0.03   0.43  23.18   23.7  24.01  24.29  24.92  163.0    1.0\n",
      "mu[336]   24.0    0.03   0.43  23.18   23.7  24.02  24.29  24.92  163.0    1.0\n",
      "mu[337]   24.0    0.03   0.43  23.18   23.7  24.02  24.29  24.93  163.0    1.0\n",
      "mu[338]   24.0    0.03   0.43  23.18   23.7  24.02  24.29  24.92  163.0    1.0\n",
      "mu[339]  23.99    0.03   0.43  23.17  23.69  24.01  24.28  24.92  163.0    1.0\n",
      "mu[340]  23.99    0.03   0.43  23.17  23.69   24.0  24.28  24.91  163.0    1.0\n",
      "mu[341]  24.01    0.03   0.43  23.19  23.71  24.03   24.3  24.93  163.0    1.0\n",
      "mu[342]   24.0    0.03   0.43  23.19   23.7  24.02   24.3  24.93  163.0    1.0\n",
      "mu[343]   24.0    0.03   0.43  23.19   23.7  24.02   24.3  24.93  163.0    1.0\n",
      "mu[344]   24.0    0.03   0.43  23.18   23.7  24.02  24.29  24.93  163.0    1.0\n",
      "mu[345]   24.0    0.03   0.43  23.18   23.7  24.02  24.29  24.93  163.0    1.0\n",
      "mu[346]  23.99    0.03   0.43  23.17  23.69   24.0  24.28  24.91  163.0    1.0\n",
      "mu[347]  24.01    0.03   0.43  23.19  23.71  24.02   24.3  24.93  163.0    1.0\n",
      "mu[348]  24.01    0.03   0.43  23.19  23.71  24.03   24.3  24.93  163.0    1.0\n",
      "mu[349]   24.0    0.03   0.43  23.18   23.7  24.02  24.29  24.93  163.0    1.0\n",
      "mu[350]  23.99    0.03   0.43  23.17  23.69   24.0  24.28  24.91  163.0    1.0\n",
      "mu[351]  23.98    0.03   0.43  23.17  23.68   24.0  24.27  24.91  163.0    1.0\n",
      "mu[352]  23.99    0.03   0.43  23.17  23.68   24.0  24.27  24.91  163.0    1.0\n",
      "mu[353]  24.01    0.03   0.43  23.19  23.71  24.02   24.3  24.93  163.0    1.0\n",
      "mu[354]   24.0    0.03   0.43  23.18   23.7  24.01  24.29  24.92  163.0    1.0\n",
      "mu[355]  23.97    0.03   0.43  23.15  23.67  23.98  24.26  24.89  163.0    1.0\n",
      "mu[356]  20.31    0.04   0.49  19.38  19.95   20.3  20.65  21.24  167.0    1.0\n",
      "mu[357]  22.43    0.03   0.41  21.68  22.15  22.41   22.7  23.31  167.0    1.0\n",
      "mu[358]  21.87    0.03   0.42  21.08  21.56  21.85  22.17   22.7  167.0    1.0\n",
      "mu[359]  22.26    0.03   0.41   21.5  21.97  22.23  22.53  23.12  167.0    1.0\n",
      "mu[360]  22.14    0.03   0.41  21.37  21.85  22.12  22.42  22.99  167.0    1.0\n",
      "mu[361]  22.43    0.03   0.41  21.68  22.15  22.41   22.7  23.31  167.0    1.0\n",
      "mu[362]   22.5    0.03   0.41  21.76  22.22  22.48  22.77  23.38  167.0    1.0\n",
      "mu[363]  22.27    0.03   0.41  21.52  21.99  22.24  22.55  23.14  167.0    1.0\n",
      "mu[364]  22.58    0.03   0.41  21.85   22.3  22.56  22.85  23.46  167.0    1.0\n",
      "mu[365]  22.14    0.03   0.41  21.36  21.85  22.11  22.41  22.98  167.0    1.0\n",
      "mu[366]  22.49    0.03   0.41  21.75  22.21  22.47  22.76  23.38  167.0    1.0\n",
      "mu[367]  18.44    0.05   0.63  17.21  18.03  18.43  18.89  19.62  167.0    1.0\n",
      "mu[368]  21.99    0.03   0.41  21.21   21.7  21.97  22.28  22.83  167.0    1.0\n",
      "mu[369]  21.68    0.03   0.42  20.87  21.36  21.66  21.97  22.51  167.0    1.0\n",
      "mu[370]  21.32    0.03   0.44  20.48   21.0   21.3  21.62  22.16  167.0    1.0\n",
      "mu[371]  20.21    0.04    0.5  19.27  19.84   20.2  20.56  21.15  167.0    1.0\n",
      "mu[372]   20.6    0.04   0.47   19.7  20.27   20.6  20.94   21.5  167.0    1.0\n",
      "mu[373]  19.43    0.04   0.55   18.4  19.07  19.43  19.81   20.5  167.0    1.0\n",
      "mu[374]  16.38    0.06   0.82  14.74  15.84  16.39  16.97   17.9  167.0    1.0\n",
      "mu[375]  15.92    0.07   0.86  14.22  15.34  15.94  16.53  17.52  167.0    1.0\n",
      "mu[376]  17.71    0.05   0.69  16.38  17.24   17.7  18.21   19.0  167.0    1.0\n",
      "mu[377]  19.96    0.04   0.51   19.0   19.6  19.95  20.33  20.96  167.0    1.0\n",
      "mu[378]  14.26    0.08   1.03  12.21  13.57  14.27  14.94  16.18  167.0    1.0\n",
      "mu[379]  16.64    0.06   0.79  15.04  16.12  16.64  17.21  18.12  167.0    1.0\n",
      "mu[380]  -12.7    0.31   3.97 -20.36 -15.36 -12.66  -9.84  -4.81  167.0    1.0\n",
      "mu[381]  17.47    0.06   0.72  16.09  16.99  17.45  17.99  18.79  167.0    1.0\n",
      "mu[382]  20.22    0.04   0.49  19.29  19.86  20.21  20.57  21.16  167.0    1.0\n",
      "mu[383]  20.72    0.04   0.47  19.83  20.38  20.71  21.04  21.61  167.0    1.0\n",
      "mu[384]  15.73    0.07   0.88  13.99  15.14  15.75  16.34  17.37  167.0    1.0\n",
      "mu[385]  17.08    0.06   0.75  15.58  16.58  17.06  17.61  18.46  167.0    1.0\n",
      "mu[386]  13.95    0.08   1.06  11.85  13.23  13.95  14.65  15.92  167.0    1.0\n",
      "mu[387]  14.69    0.08   0.99  12.74  14.03   14.7  15.34  16.55  167.0    1.0\n",
      "mu[388]   18.1    0.05   0.66  16.83  17.67   18.1  18.57  19.34  167.0    1.0\n",
      "mu[389]  20.65    0.04   0.47  19.76  20.32  20.65  20.98  21.54  167.0    1.0\n",
      "mu[390]  21.14    0.03   0.44  20.28  20.81  21.13  21.45   22.0  167.0    1.0\n",
      "mu[391]  21.83    0.03   0.42  21.04  21.52  21.81  22.13  22.66  167.0    1.0\n",
      "mu[392]  19.24    0.04   0.56  18.16  18.87  19.23  19.63  20.33  167.0    1.0\n",
      "mu[393]  20.45    0.04   0.48  19.53   20.1  20.44  20.79  21.36  167.0    1.0\n",
      "mu[394]   18.5    0.05   0.62  17.29   18.1   18.5  18.95  19.68  167.0    1.0\n",
      "mu[395]  20.42    0.04   0.48   19.5  20.07  20.41  20.76  21.34  167.0    1.0\n",
      "mu[396]  21.59    0.03   0.43  20.78  21.28  21.58  21.89  22.43  167.0    1.0\n",
      "mu[397]  20.85    0.04   0.46  19.97  20.52  20.84  21.17  21.74  167.0    1.0\n",
      "mu[398]   8.19    0.13   1.67   4.89   7.02   8.18   9.27  11.37  167.0    1.0\n",
      "mu[399]  19.92    0.04   0.51  18.96  19.56  19.92  20.29  20.93  167.0    1.0\n",
      "mu[400]  13.68    0.08   1.09  11.53  12.94  13.69  14.39  15.68  167.0    1.0\n",
      "mu[401]  18.14    0.05   0.66  16.88  17.71  18.14  18.61  19.37  167.0    1.0\n",
      "mu[402]  20.06    0.04   0.51  19.11   19.7  20.05  20.42  21.03  167.0    1.0\n",
      "mu[403]  13.78    0.08   1.08  11.65  13.05  13.79  14.48  15.77  167.0    1.0\n",
      "mu[404]   6.88    0.14   1.81   3.31   5.59   6.86   8.06  10.37  167.0    1.0\n",
      "mu[405]  -4.01    0.23   3.01  -9.85  -6.01  -3.98  -1.86   1.89  167.0    1.0\n",
      "mu[406]  15.47    0.07   0.91  13.67  14.86  15.48  16.09  17.16  167.0    1.0\n",
      "mu[407]  19.08    0.04   0.58  17.96  18.71  19.08  19.48  20.19  167.0    1.0\n",
      "mu[408]  20.96    0.04   0.45  20.09  20.63  20.95  21.27  21.84  167.0    1.0\n",
      "mu[409]  18.06    0.05   0.66  16.78  17.62  18.05  18.54   19.3  167.0    1.0\n",
      "mu[410]   2.92    0.17   2.25  -1.46   1.36   2.92   4.41   7.24  167.0    1.0\n",
      "mu[411]  18.22    0.05   0.65  16.97  17.79  18.21  18.68  19.44  167.0    1.0\n",
      "mu[412]  16.25    0.06   0.83  14.59   15.7  16.27  16.85  17.79  167.0    1.0\n",
      "mu[413]  12.19     0.1   1.24   9.72  11.32   12.2  12.97  14.53  167.0    1.0\n",
      "mu[414]   5.14    0.16    2.0   1.21   3.72   5.16   6.44   8.97  167.0    1.0\n",
      "mu[415]  16.55    0.06    0.8  14.94  16.02  16.56  17.13  18.04  167.0    1.0\n",
      "mu[416]  19.54    0.04   0.54  18.53  19.18  19.54  19.93   20.6  167.0    1.0\n",
      "mu[417]  13.31    0.09   1.13  11.08  12.54  13.32  14.05  15.37  167.0    1.0\n",
      "mu[418]  -6.33    0.25   3.26 -12.65  -8.53   -6.3  -3.98    0.1  167.0    1.0\n",
      "mu[419]  19.14    0.04   0.57  18.04  18.77  19.14  19.54  20.24  167.0    1.0\n",
      "mu[420]  19.44    0.04   0.55  18.41  19.08  19.44  19.82   20.5  167.0    1.0\n",
      "mu[421]  21.12    0.03   0.45  20.26  20.79  21.11  21.43  21.98  167.0    1.0\n",
      "mu[422]  19.04    0.04   0.58  17.91  18.67  19.04  19.44  20.15  167.0    1.0\n",
      "mu[423]  21.11    0.03   0.45  20.24  20.78   21.1  21.41  21.97  167.0    1.0\n",
      "mu[424]  20.39    0.04   0.48  19.47  20.03  20.38  20.73  21.31  167.0    1.0\n",
      "mu[425]  17.47    0.06   0.72   16.1   17.0  17.45  17.99  18.79  167.0    1.0\n",
      "mu[426]  18.96    0.05   0.59  17.81  18.58  18.96  19.37  20.08  167.0    1.0\n",
      "mu[427]   8.48    0.13   1.64   5.24   7.33   8.46   9.53  11.59  167.0    1.0\n",
      "mu[428]  20.98    0.03   0.45  20.11  20.65  20.97  21.29  21.85  167.0    1.0\n",
      "mu[429]  20.16    0.04    0.5  19.22   19.8  20.15  20.52  21.11  167.0    1.0\n",
      "mu[430]  20.51    0.04   0.48   19.6  20.16   20.5  20.85  21.42  167.0    1.0\n",
      "mu[431]  19.86    0.04   0.52  18.89   19.5  19.86  20.24  20.88  167.0    1.0\n",
      "mu[432]  21.36    0.03   0.43  20.52  21.04  21.34  21.66   22.2  167.0    1.0\n",
      "mu[433]  21.71    0.03   0.42  20.91   21.4  21.69  22.01  22.54  167.0    1.0\n",
      "mu[434]  18.27    0.05   0.64  17.03  17.85  18.27  18.74  19.48  167.0    1.0\n",
      "mu[435]  19.41    0.04   0.55  18.37  19.05  19.41   19.8  20.48  167.0    1.0\n",
      "mu[436]  18.06    0.05   0.66  16.79  17.63  18.06  18.54  19.31  167.0    1.0\n",
      "mu[437]  17.75    0.05   0.69  16.44  17.29  17.74  18.26  19.04  167.0    1.0\n",
      "mu[438]  18.37    0.05   0.64  17.14  17.96  18.37  18.83  19.56  167.0    1.0\n",
      "mu[439]  20.14    0.04    0.5   19.2  19.78  20.13   20.5   21.1  167.0    1.0\n",
      "mu[440]  14.92    0.07   0.96  13.02  14.27  14.92  15.55  16.73  167.0    1.0\n",
      "mu[441]   20.0    0.04   0.51  19.05  19.64  19.99  20.37  20.99  167.0    1.0\n",
      "mu[442]  21.68    0.03   0.42  20.87  21.36  21.66  21.97  22.51  167.0    1.0\n",
      "mu[443]   19.9    0.04   0.52  18.93  19.54   19.9  20.27  20.91  167.0    1.0\n",
      "mu[444]  18.73    0.05    0.6  17.55  18.34  18.73  19.16  19.89  167.0    1.0\n",
      "mu[445]  19.61    0.04   0.54  18.61  19.25  19.61   20.0  20.66  167.0    1.0\n",
      "mu[446]  21.42    0.03   0.43  20.59   21.1   21.4  21.73  22.26  167.0    1.0\n",
      "mu[447]  19.92    0.04   0.51  18.95  19.55  19.92  20.29  20.93  167.0    1.0\n",
      "mu[448]  20.17    0.04    0.5  19.22   19.8  20.16  20.53  21.11  167.0    1.0\n",
      "mu[449]  20.91    0.04   0.46  20.04  20.58   20.9  21.23  21.79  167.0    1.0\n",
      "mu[450]  21.24    0.03   0.44  20.39  20.92  21.23  21.55  22.09  167.0    1.0\n",
      "mu[451]  21.77    0.03   0.42  20.98  21.46  21.75  22.07   22.6  167.0    1.0\n",
      "mu[452]  21.91    0.03   0.42  21.13  21.61  21.89  22.21  22.74  167.0    1.0\n",
      "mu[453]  20.61    0.04   0.47  19.71  20.27  20.61  20.94   21.5  167.0    1.0\n",
      "mu[454]  20.09    0.04    0.5  19.14  19.73  20.08  20.45  21.06  167.0    1.0\n",
      "mu[455]  22.05    0.03   0.41  21.27  21.76  22.03  22.33  22.89  167.0    1.0\n",
      "mu[456]  22.09    0.03   0.41  21.31   21.8  22.07  22.37  22.93  167.0    1.0\n",
      "mu[457]  20.63    0.04   0.47  19.73   20.3  20.63  20.96  21.52  167.0    1.0\n",
      "mu[458]  20.82    0.04   0.46  19.94  20.49  20.81  21.14  21.71  167.0    1.0\n",
      "mu[459]  21.21    0.03   0.44  20.36  20.88  21.19  21.52  22.06  167.0    1.0\n",
      "mu[460]  22.03    0.03   0.41  21.24  21.74  22.01  22.31  22.87  167.0    1.0\n",
      "mu[461]  22.49    0.03   0.41  21.75  22.21  22.47  22.76  23.38  167.0    1.0\n",
      "mu[462]  21.27    0.03   0.44  20.42  20.94  21.25  21.58  22.12  167.0    1.0\n",
      "mu[463]  21.61    0.03   0.43   20.8   21.3   21.6  21.91  22.45  167.0    1.0\n",
      "mu[464]  20.78    0.04   0.46   19.9  20.45  20.77   21.1  21.67  167.0    1.0\n",
      "mu[465]  22.71    0.03   0.41  21.98  22.42   22.7  22.98  23.57  167.0    1.0\n",
      "mu[466]  22.46    0.03   0.41  21.71  22.18  22.44  22.73  23.34  167.0    1.0\n",
      "mu[467]  22.19    0.03   0.41  21.43  21.91  22.17  22.47  23.05  167.0    1.0\n",
      "mu[468]  17.59    0.05    0.7  16.24  17.12  17.57  18.11   18.9  167.0    1.0\n",
      "mu[469]  18.62    0.05   0.61  17.42  18.22  18.61  19.05  19.78  167.0    1.0\n",
      "mu[470]  22.22    0.03   0.41  21.46  21.94   22.2  22.49  23.08  167.0    1.0\n",
      "mu[471]  22.35    0.03   0.41  21.59  22.07  22.33  22.62  23.22  167.0    1.0\n",
      "mu[472]  22.54    0.03   0.41  21.81  22.26  22.53  22.81  23.42  167.0    1.0\n",
      "mu[473]   22.1    0.03   0.41  21.32  21.81  22.08  22.37  22.94  167.0    1.0\n",
      "mu[474]  20.69    0.04   0.47   19.8  20.36  20.68  21.02  21.58  167.0    1.0\n",
      "mu[475]  21.38    0.03   0.43  20.55  21.06  21.36  21.68  22.22  167.0    1.0\n",
      "mu[476]  22.01    0.03   0.41  21.22  21.71  21.98  22.29  22.84  167.0    1.0\n",
      "mu[477]  17.82    0.05   0.68  16.51  17.36  17.81  18.32   19.1  167.0    1.0\n",
      "mu[478]  19.79    0.04   0.52  18.81  19.42  19.79  20.17  20.81  167.0    1.0\n",
      "mu[479]   18.1    0.05   0.66  16.83  17.67   18.1  18.57  19.34  167.0    1.0\n",
      "mu[480]  21.61    0.03   0.43   20.8   21.3   21.6  21.91  22.45  167.0    1.0\n",
      "mu[481]  21.66    0.03   0.42  20.86  21.34  21.64  21.96  22.49  167.0    1.0\n",
      "mu[482]  21.65    0.03   0.42  20.85  21.34  21.63  21.95  22.49  167.0    1.0\n",
      "mu[483]  22.85    0.03   0.41  22.12  22.57  22.84  23.12   23.7  167.0    1.0\n",
      "mu[484]  23.03    0.03   0.41  22.28  22.75  23.04   23.3  23.88  167.0    1.0\n",
      "mu[485]   22.5    0.03   0.41  21.76  22.22  22.48  22.77  23.39  167.0    1.0\n",
      "mu[486]  21.67    0.03   0.42  20.86  21.35  21.65  21.96   22.5  167.0    1.0\n",
      "mu[487]  22.02    0.03   0.41  21.23  21.73   22.0   22.3  22.85  167.0    1.0\n",
      "mu[488]  23.95    0.03   0.43  23.14  23.65  23.97  24.24  24.88  163.0    1.0\n",
      "mu[489]  23.94    0.03   0.43  23.13  23.63  23.95  24.23  24.86  163.0    1.0\n",
      "mu[490]  23.93    0.03   0.43  23.12  23.62  23.94  24.22  24.85  163.0    1.0\n",
      "mu[491]  23.97    0.03   0.43  23.16  23.67  23.98  24.26  24.89  163.0    1.0\n",
      "mu[492]  23.97    0.03   0.43  23.15  23.66  23.98  24.26  24.89  163.0    1.0\n",
      "mu[493]  23.94    0.03   0.43  23.13  23.64  23.96  24.23  24.87  163.0    1.0\n",
      "mu[494]   23.9    0.03   0.43  23.09   23.6  23.91  24.19  24.82  163.0    1.0\n",
      "mu[495]  23.94    0.03   0.43  23.13  23.63  23.95  24.23  24.86  163.0    1.0\n",
      "mu[496]   23.9    0.03   0.42  23.08  23.59  23.91  24.19  24.82  163.0    1.0\n",
      "mu[497]   23.9    0.03   0.43  23.09   23.6  23.92   24.2  24.83  163.0    1.0\n",
      "mu[498]  23.92    0.03   0.43   23.1  23.61  23.93  24.21  24.84  163.0    1.0\n",
      "mu[499]  23.94    0.03   0.43  23.13  23.64  23.95  24.23  24.86  163.0    1.0\n",
      "mu[500]  23.92    0.03   0.43  23.11  23.62  23.93  24.21  24.84  163.0    1.0\n",
      "mu[501]  23.99    0.03   0.43  23.17  23.69   24.0  24.28  24.91  163.0    1.0\n",
      "mu[502]   24.0    0.03   0.43  23.18  23.69  24.01  24.29  24.92  163.0    1.0\n",
      "mu[503]  23.99    0.03   0.43  23.17  23.69   24.0  24.28  24.91  163.0    1.0\n",
      "mu[504]  23.97    0.03   0.43  23.15  23.67  23.98  24.26  24.89  163.0    1.0\n",
      "mu[505]   24.0    0.03   0.43  23.18  23.69  24.01  24.29  24.92  163.0    1.0\n",
      "lp__     -1335    0.12   1.32  -1338  -1336  -1335  -1334  -1334  131.0   1.01\n",
      "\n",
      "Samples were drawn using NUTS at Tue Jul 26 08:04:33 2016.\n",
      "For each parameter, n_eff is a crude measure of effective sample size,\n",
      "and Rhat is the potential scale reduction factor on split chains (at \n",
      "convergence, Rhat=1).\n"
     ]
    }
   ],
   "source": [
    "#Print your model here\n",
    "print(model)"
   ]
  },
  {
   "cell_type": "code",
   "execution_count": null,
   "metadata": {
    "collapsed": true
   },
   "outputs": [],
   "source": []
  }
 ],
 "metadata": {
  "kernelspec": {
   "display_name": "Python 2",
   "language": "python",
   "name": "python2"
  },
  "language_info": {
   "codemirror_mode": {
    "name": "ipython",
    "version": 2
   },
   "file_extension": ".py",
   "mimetype": "text/x-python",
   "name": "python",
   "nbconvert_exporter": "python",
   "pygments_lexer": "ipython2",
   "version": "2.7.11"
  },
  "widgets": {
   "state": {},
   "version": "1.1.2"
  }
 },
 "nbformat": 4,
 "nbformat_minor": 0
}
