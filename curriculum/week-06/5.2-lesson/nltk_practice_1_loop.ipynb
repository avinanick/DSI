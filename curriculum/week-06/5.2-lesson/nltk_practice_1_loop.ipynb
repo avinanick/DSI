{
 "cells": [
  {
   "cell_type": "code",
   "execution_count": 3,
   "metadata": {
    "collapsed": true
   },
   "outputs": [],
   "source": [
    "import nltk"
   ]
  },
  {
   "cell_type": "code",
   "execution_count": 2,
   "metadata": {
    "collapsed": false
   },
   "outputs": [
    {
     "name": "stdout",
     "output_type": "stream",
     "text": [
      "showing info http://www.nltk.org/nltk_data/\n"
     ]
    },
    {
     "data": {
      "text/plain": [
       "True"
      ]
     },
     "execution_count": 2,
     "metadata": {},
     "output_type": "execute_result"
    }
   ],
   "source": [
    "# nltk.download()"
   ]
  },
  {
   "cell_type": "code",
   "execution_count": 4,
   "metadata": {
    "collapsed": false
   },
   "outputs": [
    {
     "name": "stdout",
     "output_type": "stream",
     "text": [
      "*** Introductory Examples for the NLTK Book ***\n",
      "Loading text1, ..., text9 and sent1, ..., sent9\n",
      "Type the name of the text or sentence to view it.\n",
      "Type: 'texts()' or 'sents()' to list the materials.\n",
      "text1: Moby Dick by Herman Melville 1851\n",
      "text2: Sense and Sensibility by Jane Austen 1811\n",
      "text3: The Book of Genesis\n",
      "text4: Inaugural Address Corpus\n",
      "text5: Chat Corpus\n",
      "text6: Monty Python and the Holy Grail\n",
      "text7: Wall Street Journal\n",
      "text8: Personals Corpus\n",
      "text9: The Man Who Was Thursday by G . K . Chesterton 1908\n"
     ]
    }
   ],
   "source": [
    "from nltk.book import *"
   ]
  },
  {
   "cell_type": "code",
   "execution_count": 2,
   "metadata": {
    "collapsed": false
   },
   "outputs": [],
   "source": [
    "textz =[\"text\" + str(i) for i in range(1,10)]"
   ]
  },
  {
   "cell_type": "code",
   "execution_count": 138,
   "metadata": {
    "collapsed": false
   },
   "outputs": [
    {
     "name": "stdout",
     "output_type": "stream",
     "text": [
      "uninterpenetratingly  -> word length: 20\n",
      " -- name of text ->  <Text: Moby Dick by Herman Melville 1851>\n",
      "disinterestedness  -> word length: 17\n",
      " -- name of text ->  <Text: Sense and Sensibility by Jane Austen 1811>\n",
      "interpretations  -> word length: 15\n",
      " -- name of text ->  <Text: The Book of Genesis>\n",
      "antiphilosophists  -> word length: 17\n",
      " -- name of text ->  <Text: Inaugural Address Corpus>\n",
      "llloooozzzzeeerrrrzzzzzzzzzzzzzzzzzzzzzzzzzzzzzzzzzzzzzzzzzzzzzzzzz  -> word length: 67\n",
      " -- name of text ->  <Text: Chat Corpus>\n",
      "automatically  -> word length: 13\n",
      " -- name of text ->  <Text: Monty Python and the Holy Grail>\n",
      "marketing-communications  -> word length: 24\n",
      " -- name of text ->  <Text: Wall Street Journal>\n",
      "disciplinarian  -> word length: 14\n",
      " -- name of text ->  <Text: Personals Corpus>\n",
      "undenominational  -> word length: 16\n",
      " -- name of text ->  <Text: The Man Who Was Thursday by G . K . Chesterton 1908>\n"
     ]
    }
   ],
   "source": [
    "import numpy as np\n",
    "for j in textz:\n",
    "    filtered = [i for i in eval(j) if \"www.\" not in i]\n",
    "    longest_word = np.argmax([len(i) for i in filtered])\n",
    "    print (filtered[longest_word].lower()), \" -> word length:\", len(filtered[longest_word])\n",
    "    print \" -- name of text -> \", eval(j)"
   ]
  }
 ],
 "metadata": {
  "kernelspec": {
   "display_name": "Python 2",
   "language": "python",
   "name": "python2"
  },
  "language_info": {
   "codemirror_mode": {
    "name": "ipython",
    "version": 2
   },
   "file_extension": ".py",
   "mimetype": "text/x-python",
   "name": "python",
   "nbconvert_exporter": "python",
   "pygments_lexer": "ipython2",
   "version": "2.7.11"
  },
  "widgets": {
   "state": {},
   "version": "1.1.2"
  }
 },
 "nbformat": 4,
 "nbformat_minor": 0
}
